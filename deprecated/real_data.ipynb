{
 "cells": [
  {
   "cell_type": "markdown",
   "metadata": {},
   "source": [
    "# Using the kmsr optimization on real data"
   ]
  },
  {
   "cell_type": "code",
   "execution_count": 1,
   "metadata": {},
   "outputs": [],
   "source": [
    "import gurobipy as gp\n",
    "from gurobipy import GRB\n",
    "import matplotlib.pyplot as plt\n",
    "from sklearn.metrics import DistanceMetric\n",
    "import numpy as np"
   ]
  },
  {
   "cell_type": "markdown",
   "metadata": {},
   "source": [
    "## Parsing a file"
   ]
  },
  {
   "cell_type": "code",
   "execution_count": 2,
   "metadata": {},
   "outputs": [],
   "source": [
    "def read_data(filename):\n",
    "    points = np.loadtxt(filename, delimiter=',', skiprows=1)  # uses spaces as delimiter by default, the first row is \"x,y\"\n",
    "    return points"
   ]
  },
  {
   "cell_type": "code",
   "execution_count": 3,
   "metadata": {},
   "outputs": [
    {
     "ename": "FileNotFoundError",
     "evalue": "data_sets/ruspini.csv not found.",
     "output_type": "error",
     "traceback": [
      "\u001b[1;31m---------------------------------------------------------------------------\u001b[0m",
      "\u001b[1;31mFileNotFoundError\u001b[0m                         Traceback (most recent call last)",
      "Cell \u001b[1;32mIn[3], line 2\u001b[0m\n\u001b[0;32m      1\u001b[0m filename \u001b[38;5;241m=\u001b[39m \u001b[38;5;124m\"\u001b[39m\u001b[38;5;124mdata_sets/ruspini.csv\u001b[39m\u001b[38;5;124m\"\u001b[39m \u001b[38;5;66;03m# small dataset of four groups\u001b[39;00m\n\u001b[1;32m----> 2\u001b[0m points \u001b[38;5;241m=\u001b[39m \u001b[43mread_data\u001b[49m\u001b[43m(\u001b[49m\u001b[43mfilename\u001b[49m\u001b[43m)\u001b[49m\n\u001b[0;32m      3\u001b[0m k \u001b[38;5;241m=\u001b[39m \u001b[38;5;241m4\u001b[39m\n\u001b[0;32m      5\u001b[0m plt\u001b[38;5;241m.\u001b[39mtitle(\u001b[38;5;124m\"\u001b[39m\u001b[38;5;124mRuspini Dataset\u001b[39m\u001b[38;5;124m\"\u001b[39m)\n",
      "Cell \u001b[1;32mIn[2], line 2\u001b[0m, in \u001b[0;36mread_data\u001b[1;34m(filename)\u001b[0m\n\u001b[0;32m      1\u001b[0m \u001b[38;5;28;01mdef\u001b[39;00m \u001b[38;5;21mread_data\u001b[39m(filename):\n\u001b[1;32m----> 2\u001b[0m     points \u001b[38;5;241m=\u001b[39m \u001b[43mnp\u001b[49m\u001b[38;5;241;43m.\u001b[39;49m\u001b[43mloadtxt\u001b[49m\u001b[43m(\u001b[49m\u001b[43mfilename\u001b[49m\u001b[43m,\u001b[49m\u001b[43m \u001b[49m\u001b[43mdelimiter\u001b[49m\u001b[38;5;241;43m=\u001b[39;49m\u001b[38;5;124;43m'\u001b[39;49m\u001b[38;5;124;43m,\u001b[39;49m\u001b[38;5;124;43m'\u001b[39;49m\u001b[43m,\u001b[49m\u001b[43m \u001b[49m\u001b[43mskiprows\u001b[49m\u001b[38;5;241;43m=\u001b[39;49m\u001b[38;5;241;43m1\u001b[39;49m\u001b[43m)\u001b[49m  \u001b[38;5;66;03m# uses spaces as delimiter by default, the first row is \"x,y\"\u001b[39;00m\n\u001b[0;32m      3\u001b[0m     \u001b[38;5;28;01mreturn\u001b[39;00m points\n",
      "File \u001b[1;32m~\\AppData\\Local\\Packages\\PythonSoftwareFoundation.Python.3.11_qbz5n2kfra8p0\\LocalCache\\local-packages\\Python311\\site-packages\\numpy\\lib\\npyio.py:1373\u001b[0m, in \u001b[0;36mloadtxt\u001b[1;34m(fname, dtype, comments, delimiter, converters, skiprows, usecols, unpack, ndmin, encoding, max_rows, quotechar, like)\u001b[0m\n\u001b[0;32m   1370\u001b[0m \u001b[38;5;28;01mif\u001b[39;00m \u001b[38;5;28misinstance\u001b[39m(delimiter, \u001b[38;5;28mbytes\u001b[39m):\n\u001b[0;32m   1371\u001b[0m     delimiter \u001b[38;5;241m=\u001b[39m delimiter\u001b[38;5;241m.\u001b[39mdecode(\u001b[38;5;124m'\u001b[39m\u001b[38;5;124mlatin1\u001b[39m\u001b[38;5;124m'\u001b[39m)\n\u001b[1;32m-> 1373\u001b[0m arr \u001b[38;5;241m=\u001b[39m \u001b[43m_read\u001b[49m\u001b[43m(\u001b[49m\u001b[43mfname\u001b[49m\u001b[43m,\u001b[49m\u001b[43m \u001b[49m\u001b[43mdtype\u001b[49m\u001b[38;5;241;43m=\u001b[39;49m\u001b[43mdtype\u001b[49m\u001b[43m,\u001b[49m\u001b[43m \u001b[49m\u001b[43mcomment\u001b[49m\u001b[38;5;241;43m=\u001b[39;49m\u001b[43mcomment\u001b[49m\u001b[43m,\u001b[49m\u001b[43m \u001b[49m\u001b[43mdelimiter\u001b[49m\u001b[38;5;241;43m=\u001b[39;49m\u001b[43mdelimiter\u001b[49m\u001b[43m,\u001b[49m\n\u001b[0;32m   1374\u001b[0m \u001b[43m            \u001b[49m\u001b[43mconverters\u001b[49m\u001b[38;5;241;43m=\u001b[39;49m\u001b[43mconverters\u001b[49m\u001b[43m,\u001b[49m\u001b[43m \u001b[49m\u001b[43mskiplines\u001b[49m\u001b[38;5;241;43m=\u001b[39;49m\u001b[43mskiprows\u001b[49m\u001b[43m,\u001b[49m\u001b[43m \u001b[49m\u001b[43musecols\u001b[49m\u001b[38;5;241;43m=\u001b[39;49m\u001b[43musecols\u001b[49m\u001b[43m,\u001b[49m\n\u001b[0;32m   1375\u001b[0m \u001b[43m            \u001b[49m\u001b[43munpack\u001b[49m\u001b[38;5;241;43m=\u001b[39;49m\u001b[43munpack\u001b[49m\u001b[43m,\u001b[49m\u001b[43m \u001b[49m\u001b[43mndmin\u001b[49m\u001b[38;5;241;43m=\u001b[39;49m\u001b[43mndmin\u001b[49m\u001b[43m,\u001b[49m\u001b[43m \u001b[49m\u001b[43mencoding\u001b[49m\u001b[38;5;241;43m=\u001b[39;49m\u001b[43mencoding\u001b[49m\u001b[43m,\u001b[49m\n\u001b[0;32m   1376\u001b[0m \u001b[43m            \u001b[49m\u001b[43mmax_rows\u001b[49m\u001b[38;5;241;43m=\u001b[39;49m\u001b[43mmax_rows\u001b[49m\u001b[43m,\u001b[49m\u001b[43m \u001b[49m\u001b[43mquote\u001b[49m\u001b[38;5;241;43m=\u001b[39;49m\u001b[43mquotechar\u001b[49m\u001b[43m)\u001b[49m\n\u001b[0;32m   1378\u001b[0m \u001b[38;5;28;01mreturn\u001b[39;00m arr\n",
      "File \u001b[1;32m~\\AppData\\Local\\Packages\\PythonSoftwareFoundation.Python.3.11_qbz5n2kfra8p0\\LocalCache\\local-packages\\Python311\\site-packages\\numpy\\lib\\npyio.py:992\u001b[0m, in \u001b[0;36m_read\u001b[1;34m(fname, delimiter, comment, quote, imaginary_unit, usecols, skiplines, max_rows, converters, ndmin, unpack, dtype, encoding)\u001b[0m\n\u001b[0;32m    990\u001b[0m     fname \u001b[38;5;241m=\u001b[39m os\u001b[38;5;241m.\u001b[39mfspath(fname)\n\u001b[0;32m    991\u001b[0m \u001b[38;5;28;01mif\u001b[39;00m \u001b[38;5;28misinstance\u001b[39m(fname, \u001b[38;5;28mstr\u001b[39m):\n\u001b[1;32m--> 992\u001b[0m     fh \u001b[38;5;241m=\u001b[39m \u001b[43mnp\u001b[49m\u001b[38;5;241;43m.\u001b[39;49m\u001b[43mlib\u001b[49m\u001b[38;5;241;43m.\u001b[39;49m\u001b[43m_datasource\u001b[49m\u001b[38;5;241;43m.\u001b[39;49m\u001b[43mopen\u001b[49m\u001b[43m(\u001b[49m\u001b[43mfname\u001b[49m\u001b[43m,\u001b[49m\u001b[43m \u001b[49m\u001b[38;5;124;43m'\u001b[39;49m\u001b[38;5;124;43mrt\u001b[39;49m\u001b[38;5;124;43m'\u001b[39;49m\u001b[43m,\u001b[49m\u001b[43m \u001b[49m\u001b[43mencoding\u001b[49m\u001b[38;5;241;43m=\u001b[39;49m\u001b[43mencoding\u001b[49m\u001b[43m)\u001b[49m\n\u001b[0;32m    993\u001b[0m     \u001b[38;5;28;01mif\u001b[39;00m encoding \u001b[38;5;129;01mis\u001b[39;00m \u001b[38;5;28;01mNone\u001b[39;00m:\n\u001b[0;32m    994\u001b[0m         encoding \u001b[38;5;241m=\u001b[39m \u001b[38;5;28mgetattr\u001b[39m(fh, \u001b[38;5;124m'\u001b[39m\u001b[38;5;124mencoding\u001b[39m\u001b[38;5;124m'\u001b[39m, \u001b[38;5;124m'\u001b[39m\u001b[38;5;124mlatin1\u001b[39m\u001b[38;5;124m'\u001b[39m)\n",
      "File \u001b[1;32m~\\AppData\\Local\\Packages\\PythonSoftwareFoundation.Python.3.11_qbz5n2kfra8p0\\LocalCache\\local-packages\\Python311\\site-packages\\numpy\\lib\\_datasource.py:193\u001b[0m, in \u001b[0;36mopen\u001b[1;34m(path, mode, destpath, encoding, newline)\u001b[0m\n\u001b[0;32m    156\u001b[0m \u001b[38;5;250m\u001b[39m\u001b[38;5;124;03m\"\"\"\u001b[39;00m\n\u001b[0;32m    157\u001b[0m \u001b[38;5;124;03mOpen `path` with `mode` and return the file object.\u001b[39;00m\n\u001b[0;32m    158\u001b[0m \n\u001b[1;32m   (...)\u001b[0m\n\u001b[0;32m    189\u001b[0m \n\u001b[0;32m    190\u001b[0m \u001b[38;5;124;03m\"\"\"\u001b[39;00m\n\u001b[0;32m    192\u001b[0m ds \u001b[38;5;241m=\u001b[39m DataSource(destpath)\n\u001b[1;32m--> 193\u001b[0m \u001b[38;5;28;01mreturn\u001b[39;00m \u001b[43mds\u001b[49m\u001b[38;5;241;43m.\u001b[39;49m\u001b[43mopen\u001b[49m\u001b[43m(\u001b[49m\u001b[43mpath\u001b[49m\u001b[43m,\u001b[49m\u001b[43m \u001b[49m\u001b[43mmode\u001b[49m\u001b[43m,\u001b[49m\u001b[43m \u001b[49m\u001b[43mencoding\u001b[49m\u001b[38;5;241;43m=\u001b[39;49m\u001b[43mencoding\u001b[49m\u001b[43m,\u001b[49m\u001b[43m \u001b[49m\u001b[43mnewline\u001b[49m\u001b[38;5;241;43m=\u001b[39;49m\u001b[43mnewline\u001b[49m\u001b[43m)\u001b[49m\n",
      "File \u001b[1;32m~\\AppData\\Local\\Packages\\PythonSoftwareFoundation.Python.3.11_qbz5n2kfra8p0\\LocalCache\\local-packages\\Python311\\site-packages\\numpy\\lib\\_datasource.py:533\u001b[0m, in \u001b[0;36mDataSource.open\u001b[1;34m(self, path, mode, encoding, newline)\u001b[0m\n\u001b[0;32m    530\u001b[0m     \u001b[38;5;28;01mreturn\u001b[39;00m _file_openers[ext](found, mode\u001b[38;5;241m=\u001b[39mmode,\n\u001b[0;32m    531\u001b[0m                               encoding\u001b[38;5;241m=\u001b[39mencoding, newline\u001b[38;5;241m=\u001b[39mnewline)\n\u001b[0;32m    532\u001b[0m \u001b[38;5;28;01melse\u001b[39;00m:\n\u001b[1;32m--> 533\u001b[0m     \u001b[38;5;28;01mraise\u001b[39;00m \u001b[38;5;167;01mFileNotFoundError\u001b[39;00m(\u001b[38;5;124mf\u001b[39m\u001b[38;5;124m\"\u001b[39m\u001b[38;5;132;01m{\u001b[39;00mpath\u001b[38;5;132;01m}\u001b[39;00m\u001b[38;5;124m not found.\u001b[39m\u001b[38;5;124m\"\u001b[39m)\n",
      "\u001b[1;31mFileNotFoundError\u001b[0m: data_sets/ruspini.csv not found."
     ]
    }
   ],
   "source": [
    "filename = \"data_sets/ruspini.csv\" # small dataset of four groups\n",
    "points = read_data(filename)\n",
    "k = 4\n",
    "\n",
    "plt.title(\"Ruspini Dataset\")\n",
    "plt.scatter(points[:, 0], points[:, 1], marker='o', s=25, edgecolor=\"k\", cmap=\"coolwarm\")\n",
    "plt.show()"
   ]
  },
  {
   "cell_type": "markdown",
   "metadata": {},
   "source": [
    "## Computing the LP"
   ]
  },
  {
   "cell_type": "code",
   "execution_count": null,
   "metadata": {},
   "outputs": [
    {
     "name": "stdout",
     "output_type": "stream",
     "text": [
      "Set parameter Username\n",
      "Set parameter LicenseID to value 2629995\n",
      "Academic license - for non-commercial use only - expires 2026-03-01\n",
      "Gurobi Optimizer version 12.0.1 build v12.0.1rc0 (win64 - Windows 11.0 (26100.2))\n",
      "\n",
      "CPU model: AMD Ryzen 7 5800X3D 8-Core Processor, instruction set [SSE2|AVX|AVX2]\n",
      "Thread count: 8 physical cores, 16 logical processors, using up to 16 threads\n",
      "\n",
      "Optimize a model with 11326 rows, 5775 columns and 28125 nonzeros\n",
      "Model fingerprint: 0xd682863c\n",
      "Variable types: 75 continuous, 5700 integer (5700 binary)\n",
      "Coefficient statistics:\n",
      "  Matrix range     [1e+00, 2e+02]\n",
      "  Objective range  [1e+00, 1e+00]\n",
      "  Bounds range     [1e+00, 1e+00]\n",
      "  RHS range        [1e+00, 4e+00]\n",
      "Presolve removed 150 rows and 75 columns\n",
      "Presolve time: 0.05s\n",
      "Presolved: 11176 rows, 5700 columns, 27900 nonzeros\n",
      "Variable types: 75 continuous, 5625 integer (5625 binary)\n",
      "Found heuristic solution: objective 114.4901743\n",
      "Found heuristic solution: objective 113.7189518\n",
      "\n",
      "Root relaxation: objective 4.123075e+01, 6934 iterations, 0.35 seconds (0.84 work units)\n",
      "\n",
      "    Nodes    |    Current Node    |     Objective Bounds      |     Work\n",
      " Expl Unexpl |  Obj  Depth IntInf | Incumbent    BestBd   Gap | It/Node Time\n",
      "\n",
      "     0     0   41.23075    0  731  113.71895   41.23075  63.7%     -    0s\n",
      "H    0     0                     106.5494185   41.23075  61.3%     -    0s\n",
      "H    0     0                     104.6277625   41.23075  60.6%     -    0s\n",
      "H    0     0                      95.5311349   41.23075  56.8%     -    0s\n",
      "H    0     0                      94.8814795   41.23075  56.5%     -    0s\n",
      "H    0     0                      94.5571397   41.23075  56.4%     -    0s\n",
      "H    0     0                      94.1875091   41.23075  56.2%     -    0s\n",
      "     0     0   46.39802    0  732   94.18751   46.39802  50.7%     -    1s\n",
      "     0     0   46.39802    0  562   94.18751   46.39802  50.7%     -    1s\n",
      "H    0     0                      92.4175308   47.20619  48.9%     -    1s\n",
      "     0     0   47.25974    0  741   92.41753   47.25974  48.9%     -    1s\n",
      "H    0     0                      92.0169638   47.55512  48.3%     -    1s\n",
      "     0     0   47.72336    0  785   92.01696   47.72336  48.1%     -    1s\n",
      "     0     0   47.80802    0  693   92.01696   47.80802  48.0%     -    1s\n",
      "     0     0   47.80805    0  712   92.01696   47.80805  48.0%     -    1s\n",
      "     0     0   48.36572    0  813   92.01696   48.36572  47.4%     -    2s\n",
      "H    0     0                      89.4625291   48.36572  45.9%     -    2s\n",
      "     0     0   48.87766    0  831   89.46253   48.87766  45.4%     -    2s\n",
      "     0     0   51.56958    0  593   89.46253   51.56958  42.4%     -    2s\n",
      "H    0     0                      83.4326075   51.57453  38.2%     -    2s\n",
      "     0     0   53.43319    0  595   83.43261   53.43319  36.0%     -    2s\n",
      "     0     0   53.44037    0  560   83.43261   53.44037  35.9%     -    2s\n",
      "     0     0   53.46209    0  535   83.43261   53.46209  35.9%     -    2s\n",
      "     0     0   56.82559    0  599   83.43261   56.82559  31.9%     -    2s\n",
      "     0     0   56.87174    0  655   83.43261   56.87174  31.8%     -    2s\n",
      "     0     0   56.87199    0  621   83.43261   56.87199  31.8%     -    2s\n",
      "H    0     0                      82.0060973   56.87277  30.6%     -    2s\n",
      "     0     0   57.04895    0  553   82.00610   57.04895  30.4%     -    2s\n",
      "     0     0   57.04895    0  553   82.00610   57.04895  30.4%     -    2s\n",
      "     0     0   57.71065    0  573   82.00610   57.71065  29.6%     -    2s\n",
      "     0     0   57.71065    0  408   82.00610   57.71065  29.6%     -    3s\n",
      "     0     0   57.71065    0  392   82.00610   57.71065  29.6%     -    3s\n",
      "     0     0   57.71065    0  586   82.00610   57.71065  29.6%     -    3s\n",
      "     0     0   57.71065    0  596   82.00610   57.71065  29.6%     -    3s\n",
      "     0     0   57.71065    0  646   82.00610   57.71065  29.6%     -    3s\n",
      "     0     0   57.71065    0  614   82.00610   57.71065  29.6%     -    3s\n",
      "     0     0   57.71065    0  587   82.00610   57.71065  29.6%     -    3s\n",
      "     0     0   57.71065    0  602   82.00610   57.71065  29.6%     -    3s\n",
      "     0     0   57.94266    0  589   82.00610   57.94266  29.3%     -    3s\n",
      "     0     0   57.94266    0  588   82.00610   57.94266  29.3%     -    3s\n",
      "     0     0   58.32089    0  712   82.00610   58.32089  28.9%     -    3s\n",
      "     0     0   58.37422    0  678   82.00610   58.37422  28.8%     -    3s\n",
      "     0     0   58.37422    0  676   82.00610   58.37422  28.8%     -    3s\n",
      "     0     0   58.42072    0  667   82.00610   58.42072  28.8%     -    3s\n",
      "     0     0   58.43347    0  644   82.00610   58.43347  28.7%     -    3s\n",
      "     0     0   58.43347    0  644   82.00610   58.43347  28.7%     -    3s\n",
      "     0     0   58.94908    0  609   82.00610   58.94908  28.1%     -    3s\n",
      "     0     0   58.99202    0  624   82.00610   58.99202  28.1%     -    3s\n",
      "     0     0   59.00083    0  581   82.00610   59.00083  28.1%     -    3s\n",
      "     0     0   61.53097    0  582   82.00610   61.53097  25.0%     -    3s\n",
      "     0     0   61.70975    0  591   82.00610   61.70975  24.7%     -    3s\n",
      "     0     0   61.71287    0  607   82.00610   61.71287  24.7%     -    3s\n",
      "     0     0   61.86163    0  579   82.00610   61.86163  24.6%     -    3s\n",
      "     0     0   61.88372    0  569   82.00610   61.88372  24.5%     -    3s\n",
      "     0     0   61.98639    0  511   82.00610   61.98639  24.4%     -    4s\n",
      "     0     0   66.72992    0  486   82.00610   66.72992  18.6%     -    4s\n",
      "     0     0   66.85288    0  508   82.00610   66.85288  18.5%     -    4s\n",
      "     0     0   66.86064    0  546   82.00610   66.86064  18.5%     -    4s\n",
      "     0     0   67.02956    0  520   82.00610   67.02956  18.3%     -    4s\n",
      "     0     0   67.11482    0  486   82.00610   67.11482  18.2%     -    4s\n",
      "     0     0   67.11501    0  486   82.00610   67.11501  18.2%     -    4s\n",
      "     0     0   69.01476    0  618   82.00610   69.01476  15.8%     -    4s\n",
      "     0     0   69.01476    0  271   82.00610   69.01476  15.8%     -    4s\n",
      "     0     0   69.01476    0  348   82.00610   69.01476  15.8%     -    4s\n",
      "     0     0   69.01476    0  480   82.00610   69.01476  15.8%     -    4s\n",
      "     0     0   69.01476    0  515   82.00610   69.01476  15.8%     -    4s\n",
      "     0     0   69.01476    0  466   82.00610   69.01476  15.8%     -    4s\n",
      "     0     0   69.01476    0  302   82.00610   69.01476  15.8%     -    4s\n",
      "     0     0   69.01476    0  500   82.00610   69.01476  15.8%     -    4s\n",
      "     0     0   69.01476    0  599   82.00610   69.01476  15.8%     -    4s\n",
      "     0     0   69.01476    0  598   82.00610   69.01476  15.8%     -    4s\n",
      "     0     0   69.01476    0  549   82.00610   69.01476  15.8%     -    4s\n",
      "     0     0   69.03499    0  626   82.00610   69.03499  15.8%     -    4s\n",
      "     0     0   69.11088    0  528   82.00610   69.11088  15.7%     -    4s\n",
      "     0     0   69.76623    0  577   82.00610   69.76623  14.9%     -    4s\n",
      "     0     0   69.76809    0  582   82.00610   69.76809  14.9%     -    4s\n",
      "     0     0   71.52033    0  483   82.00610   71.52033  12.8%     -    5s\n",
      "     0     0   71.53779    0  428   82.00610   71.53779  12.8%     -    5s\n",
      "     0     0   71.56073    0  440   82.00610   71.56073  12.7%     -    5s\n",
      "     0     0   71.56425    0  492   82.00610   71.56425  12.7%     -    5s\n",
      "     0     0   76.12301    0  362   82.00610   76.12301  7.17%     -    5s\n",
      "     0     0   76.91479    0  449   82.00610   76.91479  6.21%     -    5s\n",
      "     0     0   77.22585    0  308   82.00610   77.22585  5.83%     -    5s\n",
      "     0     0   77.23143    0  290   82.00610   77.23143  5.82%     -    5s\n",
      "     0     0   77.28302    0  295   82.00610   77.28302  5.76%     -    5s\n",
      "     0     0   77.29463    0  281   82.00610   77.29463  5.75%     -    5s\n",
      "     0     0   79.67632    0  251   82.00610   79.67632  2.84%     -    5s\n",
      "     0     0   79.67632    0  280   82.00610   79.67632  2.84%     -    5s\n",
      "     0     0   80.15551    0  185   82.00610   80.15551  2.26%     -    5s\n",
      "     0     0     cutoff    0        82.00610   82.00610  0.00%     -    5s\n",
      "\n",
      "Cutting planes:\n",
      "  Gomory: 24\n",
      "  Implied bound: 24\n",
      "  Clique: 5\n",
      "  MIR: 54\n",
      "  RLT: 10\n",
      "  Relax-and-lift: 163\n",
      "\n",
      "Explored 1 nodes (77089 simplex iterations) in 5.52 seconds (8.96 work units)\n",
      "Thread count was 16 (of 16 available processors)\n",
      "\n",
      "Solution count 10: 82.0061 83.4326 89.4625 ... 104.628\n",
      "\n",
      "Optimal solution found (tolerance 1.00e-04)\n",
      "Best objective 8.200609733428e+01, best bound 8.200609733428e+01, gap 0.0000%\n",
      "Optimal centers:\n",
      "Center at point [ 4. 53.] with radius 0.0\n",
      "Center at point [78. 94.] with radius 82.00609733428362\n",
      "Center at point [70.  4.] with radius 0.0\n",
      "Center at point [58. 13.] with radius 0.0\n"
     ]
    }
   ],
   "source": [
    "# distance function\n",
    "dist = DistanceMetric.get_metric('euclidean')\n",
    "\n",
    "# we need all distances as possible radii\n",
    "radii = dist.pairwise(points)\n",
    "\n",
    "# model\n",
    "m = gp.Model(\"kmsr\")\n",
    "\n",
    "# variables\n",
    "R = m.addVars(len(radii), vtype=GRB.CONTINUOUS, lb=0, name=\"R\")\n",
    "L = m.addVars(len(radii), vtype=GRB.BINARY, name=\"L\")\n",
    "Y = m.addVars(len(radii), len(radii), vtype=GRB.BINARY, name=\"Y\")\n",
    "\n",
    "# objective function: minimize sum of r in R_i of i in L: y_{i,r}*r\n",
    "m.setObjective(gp.quicksum(R[i] for i in range(len(radii))), GRB.MINIMIZE)\n",
    "\n",
    "# constraints:\n",
    "# every point covered\n",
    "for j in range(len(radii)):\n",
    "    m.addConstr(gp.quicksum(Y[i, j] for i in range(len(radii))) >= 1, f\"coverage_{j}\")\n",
    "\n",
    "# covered point has to be within radius (easier to check in two steps than in the first constraint)\n",
    "for i in range(len(radii)):\n",
    "    for j in range(len(radii)):\n",
    "        m.addConstr(radii[i][j] * Y[i, j] <= R[i], f\"within_radius_{i}_{j}\")\n",
    "\n",
    "# if a point is covered by a center, that center must be open in this iteration\n",
    "for i in range(len(radii)):\n",
    "    for j in range(len(radii)):\n",
    "        m.addConstr(Y[i, j] <= L[i], f\"open_center_{i}_{j}\")\n",
    "\n",
    "# there can only be k centers open at a time\n",
    "m.addConstr(gp.quicksum(L[i] for i in range(len(radii))) == k, \"select_k_Centers\")\n",
    "\n",
    "# run gurobi optimizer\n",
    "m.optimize()\n",
    "\n",
    "final_centers = [points[i] for i in range(len(radii)) if L[i].x == 1]\n",
    "final_radii = [R[i].x for i in range(len(radii)) if L[i].x == 1]\n",
    "\n",
    "print(\"Optimal centers:\")\n",
    "for i in range(len(final_centers)): \n",
    "    print(f\"Center at point {final_centers[i]} with radius {final_radii[i]}\")"
   ]
  },
  {
   "cell_type": "markdown",
   "metadata": {},
   "source": [
    "## Visual Solution"
   ]
  },
  {
   "cell_type": "code",
   "execution_count": null,
   "metadata": {},
   "outputs": [
    {
     "name": "stderr",
     "output_type": "stream",
     "text": [
      "C:\\Users\\Mattis\\AppData\\Local\\Temp\\ipykernel_16808\\788402991.py:4: UserWarning: No data for colormapping provided via 'c'. Parameters 'cmap' will be ignored\n",
      "  plt.scatter(points[:, 0], points[:, 1], marker='o', s=sizes, edgecolor=\"k\", cmap=\"coolwarm\")\n"
     ]
    },
    {
     "data": {
      "image/png": "[encoded data removed]",
      "text/plain": [
       "<Figure size 640x480 with 1 Axes>"
      ]
     },
     "metadata": {},
     "output_type": "display_data"
    }
   ],
   "source": [
    "# centers are enlarged\n",
    "plt.title(\"Solution\")\n",
    "sizes = [100 if tuple(point) in map(tuple, final_centers) else 25 for point in points]\n",
    "plt.scatter(points[:, 0], points[:, 1], marker='o', s=sizes, edgecolor=\"k\", cmap=\"coolwarm\")\n",
    "plt.show()"
   ]
  },
  {
   "cell_type": "markdown",
   "metadata": {},
   "source": [
    "Clearly, the objective function leads to very peculiar solutions, as it tends to prefer enlarging existing clusters. In this case, it leads to essentially on giant cluster."
   ]
  }
 ],
 "metadata": {
  "kernelspec": {
   "display_name": "Python 3",
   "language": "python",
   "name": "python3"
  },
  "language_info": {
   "codemirror_mode": {
    "name": "ipython",
    "version": 3
   },
   "file_extension": ".py",
   "mimetype": "text/x-python",
   "name": "python",
   "nbconvert_exporter": "python",
   "pygments_lexer": "ipython3",
   "version": "3.11.9"
  }
 },
 "nbformat": 4,
 "nbformat_minor": 2
}
