{
 "cells": [
  {
   "cell_type": "markdown",
   "metadata": {},
   "source": [
    "# Applying the optimization to any number fo n features"
   ]
  },
  {
   "cell_type": "markdown",
   "metadata": {},
   "source": [
    "The Iris data set is a well known small sample of petal and sepal measurements, that allow the distinction of three different varieties. As such, it fulfills the requirements of being reasonably small with a very small k for this algorithm."
   ]
  },
  {
   "cell_type": "code",
   "execution_count": 1,
   "metadata": {},
   "outputs": [],
   "source": [
    "import gurobipy as gp\n",
    "from gurobipy import GRB\n",
    "import matplotlib.pyplot as plt\n",
    "from sklearn.metrics import DistanceMetric\n",
    "from scipy.spatial import distance as dist\n",
    "import pandas as pd # feels slightly more flexible than np for parsing matrices\n",
    "import numpy as np # although gurobi does funny things with data frames so lets use an array instead"
   ]
  },
  {
   "cell_type": "markdown",
   "metadata": {},
   "source": [
    "## Reading the data, defining the number of features and clusters"
   ]
  },
  {
   "cell_type": "code",
   "execution_count": 2,
   "metadata": {},
   "outputs": [],
   "source": [
    "def read_data(filename):\n",
    "    points = pd.read_csv(filename)\n",
    "    points = points.iloc[:, :-1] # last column is species name\n",
    "    return points[:-1]"
   ]
  },
  {
   "cell_type": "code",
   "execution_count": 3,
   "metadata": {},
   "outputs": [],
   "source": [
    "filename = \"project/data_sets/iris.data\"\n",
    "points = np.array(read_data(filename))\n",
    "k = 3"
   ]
  },
  {
   "cell_type": "markdown",
   "metadata": {},
   "source": [
    "## Computing the LP"
   ]
  },
  {
   "metadata": {},
   "cell_type": "code",
   "outputs": [],
   "execution_count": null,
   "source": [
    "# distance function\n",
    "distances = DistanceMetric.get_metric('euclidean')\n",
    "\n",
    "# we need all distances as possible radii\n",
    "radii = distances.pairwise(points)\n",
    "\n",
    "# model\n",
    "m = gp.Model(\"kmsr\")\n",
    "\n",
    "# variable\n",
    "y = m.addVars(len(points), len(points), vtype=GRB.BINARY, name=\"Y\") # for dummies (me): adds a 10x10 grid of binary variables y_ij that can be either 0 or 1, which will be used to check which clusters overlap a given point\n",
    "\n",
    "# objective:\n",
    "m.setObjective(gp.quicksum([y[i, j] * radii[i][j] for i in range(len(radii)) for j in range(len(radii[i]))]),  GRB.MINIMIZE) # should be the minimization of the sum of active y_ij times their respective radii\n",
    "\n",
    "# constraints:\n",
    "\n",
    "# every point is covered by atleast one center/radius y_ij\n",
    "for n in range(len(points)):\n",
    "        m.addConstr(gp.quicksum([y[i, j] for j in range(len(radii)) for i in range (len(radii)) if radii[i][j] >= dist.euclidean(points[n], points[i])]) >= 1, \"every_point_covered\") \n",
    "\"\"\"for every point we enforce that the sum of all y_ij that represent a center/radius combination where the distance from the point to that center is \n",
    "    close enough to the point for the radius to cover it is atleast 1. because then, there is always a y_ij active for every point that covers it\"\"\"\n",
    "\n",
    "# exactly k centers open in total (not per row of y, so we don't get the sum of 10 different solutions)\n",
    "m.addConstr(gp.quicksum([y[i, j] for i in range (len(radii)) for j in range(len(radii[i]))]) == k, \"select_k_Centers\")\n",
    "\n",
    "# do the thing\n",
    "m.optimize()"
   ]
  },
  {
   "metadata": {},
   "cell_type": "code",
   "outputs": [],
   "execution_count": null,
   "source": [
    "# currently does not work as it's own function, because .x is not recognized by the gurobi.var object as the attribute value (for some reason)\n",
    "\n",
    "final_centers = [points[i] for i in range(len(points)) for j in range(len(radii[i])) if y[i, j].x == 1]\n",
    "final_radii = [radii[i][j] for i in range(len(radii)) for j in range(len(radii[i])) if y[i, j].x == 1]\n",
    "\n",
    "print(\"Optimal centers:\")\n",
    "for i in range(len(final_centers)): \n",
    "    print(f\"Center {i} at point {final_centers[i]} with radius {final_radii[i]}\")"
   ]
  },
  {
   "cell_type": "markdown",
   "metadata": {},
   "source": [
    "## Simple Example"
   ]
  },
  {
   "cell_type": "code",
   "execution_count": null,
   "metadata": {},
   "outputs": [
    {
     "name": "stderr",
     "output_type": "stream",
     "text": [
      "C:\\Users\\Mattis\\AppData\\Local\\Temp\\ipykernel_12536\\3459906729.py:1: DeprecationWarning: Converting `np.inexact` or `np.floating` to a dtype is deprecated. The current result is `float64` which is not strictly correct.\n",
      "  points = np.array([[1, 1, 1], [1, 1, 0], [1, 0, 1],\n"
     ]
    }
   ],
   "source": [
    "points = np.array([[1, 1, 1], [1, 1, 0], [1, 0, 1], \n",
    "          [5, 5, 5], [5, 5, 4], [5, 4, 5],\n",
    "          [10, 10, 10], [10, 10, 9], [10, 9, 10]], dtype=np.number)\n",
    "k = 3"
   ]
  },
  {
   "cell_type": "code",
   "execution_count": 7,
   "metadata": {},
   "outputs": [
    {
     "name": "stdout",
     "output_type": "stream",
     "text": [
      "Gurobi Optimizer version 12.0.1 build v12.0.1rc0 (win64 - Windows 11.0 (26100.2))\n",
      "\n",
      "CPU model: AMD Ryzen 7 5800X3D 8-Core Processor, instruction set [SSE2|AVX|AVX2]\n",
      "Thread count: 8 physical cores, 16 logical processors, using up to 16 threads\n",
      "\n",
      "Optimize a model with 10 rows, 81 columns and 495 nonzeros\n",
      "Model fingerprint: 0x10ce8c8c\n",
      "Variable types: 0 continuous, 81 integer (81 binary)\n",
      "Coefficient statistics:\n",
      "  Matrix range     [1e+00, 1e+00]\n",
      "  Objective range  [1e+00, 2e+01]\n",
      "  Bounds range     [1e+00, 1e+00]\n",
      "  RHS range        [1e+00, 3e+00]\n",
      "Found heuristic solution: objective 25.8620758\n",
      "Presolve added 1 rows and 0 columns\n",
      "Presolve removed 0 rows and 31 columns\n",
      "Presolve time: 0.00s\n",
      "Presolved: 11 rows, 50 columns, 249 nonzeros\n",
      "Variable types: 0 continuous, 50 integer (32 binary)\n",
      "\n",
      "Root relaxation: objective 3.000000e+00, 11 iterations, 0.00 seconds (0.00 work units)\n",
      "\n",
      "    Nodes    |    Current Node    |     Objective Bounds      |     Work\n",
      " Expl Unexpl |  Obj  Depth IntInf | Incumbent    BestBd   Gap | It/Node Time\n",
      "\n",
      "*    0     0               0       3.0000000    3.00000  0.00%     -    0s\n",
      "\n",
      "Explored 1 nodes (11 simplex iterations) in 0.01 seconds (0.00 work units)\n",
      "Thread count was 16 (of 16 available processors)\n",
      "\n",
      "Solution count 2: 3 25.8621 \n",
      "\n",
      "Optimal solution found (tolerance 1.00e-04)\n",
      "Best objective 3.000000000000e+00, best bound 3.000000000000e+00, gap 0.0000%\n"
     ]
    }
   ],
   "source": [
    "# repeat entire section because of gurobi weirdness. have to work on that\n",
    "\n",
    "# distance function\n",
    "distances = DistanceMetric.get_metric('euclidean')\n",
    "\n",
    "# we need all distances as possible radii\n",
    "radii = distances.pairwise(points)\n",
    "\n",
    "# model\n",
    "m = gp.Model(\"k_msr\")\n",
    "\n",
    "# variable\n",
    "y = m.addVars(len(points), len(points), vtype=GRB.BINARY, name=\"Y\") # for dummies (me): adds a 10x10 grid of binary variables y_ij that can be either 0 or 1, which will be used to check which clusters overlap a given point\n",
    "\n",
    "# objective:\n",
    "m.setObjective(gp.quicksum([y[i, j] * radii[i][j] for i in range(len(radii)) for j in range(len(radii[i]))]),  GRB.MINIMIZE) # should be the minimization of the sum of active y_ij times their respective radii\n",
    "\n",
    "# constraints:\n",
    "\n",
    "# every point is covered by atleast one center/radius y_ij\n",
    "for n in range(len(points)):\n",
    "        m.addConstr(gp.quicksum([y[i, j] for j in range(len(radii)) for i in range (len(radii)) if radii[i][j] >= dist.euclidean(points[n], points[i])]) >= 1, \"every_point_covered\") \n",
    "\"\"\"for every point we enforce that the sum of all y_ij that represent a center/radius combination where the distance from the point to that center is \n",
    "    close enough to the point for the radius to cover it is atleast 1. because then, there is always a y_ij active for every point that covers it\"\"\"\n",
    "\n",
    "# exactly k centers open in total (not per row of y, so we don't get the sum of 10 different solutions)\n",
    "m.addConstr(gp.quicksum([y[i, j] for i in range (len(radii)) for j in range(len(radii[i]))]) == k, \"select_k_Centers\")\n",
    "\n",
    "# do the thing\n",
    "m.optimize()"
   ]
  },
  {
   "cell_type": "code",
   "execution_count": 8,
   "metadata": {},
   "outputs": [
    {
     "name": "stdout",
     "output_type": "stream",
     "text": [
      "Optimal centers:\n",
      "Center 0 at point [1. 1. 1.] with radius 1.0\n",
      "Center 1 at point [5. 5. 5.] with radius 1.0\n",
      "Center 2 at point [10. 10. 10.] with radius 1.0\n"
     ]
    }
   ],
   "source": [
    "# see above comment\n",
    "\n",
    "final_centers = [points[i] for i in range(len(points)) for j in range(len(radii[i])) if y[i, j].x == 1]\n",
    "final_radii = [radii[i][j] for i in range(len(radii)) for j in range(len(radii[i])) if y[i, j].x == 1]\n",
    "\n",
    "print(\"Optimal centers:\")\n",
    "for i in range(len(final_centers)): \n",
    "    print(f\"Center {i} at point {final_centers[i]} with radius {final_radii[i]}\")"
   ]
  }
 ],
 "metadata": {
  "kernelspec": {
   "display_name": "Python 3",
   "language": "python",
   "name": "python3"
  },
  "language_info": {
   "codemirror_mode": {
    "name": "ipython",
    "version": 3
   },
   "file_extension": ".py",
   "mimetype": "text/x-python",
   "name": "python",
   "nbconvert_exporter": "python",
   "pygments_lexer": "ipython3",
   "version": "3.11.2"
  }
 },
 "nbformat": 4,
 "nbformat_minor": 2
}
