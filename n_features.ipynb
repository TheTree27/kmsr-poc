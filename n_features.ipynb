{
 "cells": [
  {
   "cell_type": "markdown",
   "metadata": {},
   "source": [
    "# Applying the optimization to any number fo n features"
   ]
  },
  {
   "cell_type": "markdown",
   "metadata": {},
   "source": [
    "The Iris data set is a well known small sample of petal and sepal measurements, that allow the distinction of three different varieties. As such, it fulfills the requirements of being reasonably small with a very small k for this algorithm."
   ]
  },
  {
   "cell_type": "code",
   "execution_count": 4,
   "metadata": {},
   "outputs": [],
   "source": [
    "import gurobipy as gp\n",
    "from gurobipy import GRB\n",
    "import matplotlib.pyplot as plt\n",
    "from sklearn.metrics import DistanceMetric\n",
    "import pandas as pd # feels slightly more flexible than np for parsing matrices\n",
    "import numpy as np # although gurobi does funny things with data frames so lets use an array instead"
   ]
  },
  {
   "cell_type": "markdown",
   "metadata": {},
   "source": [
    "## Reading the data, defining the number of features and clusters"
   ]
  },
  {
   "cell_type": "code",
   "execution_count": 5,
   "metadata": {},
   "outputs": [],
   "source": [
    "def read_data(filename):\n",
    "    points = pd.read_csv(filename)\n",
    "    points = points.iloc[:, :-1] # last column is species name\n",
    "    return points[:-1]"
   ]
  },
  {
   "cell_type": "code",
   "execution_count": 6,
   "metadata": {},
   "outputs": [],
   "source": [
    "filename = \"data_sets/iris.data\"\n",
    "points = np.array(read_data(filename))\n",
    "k = 3\n",
    "n = len(points[0])"
   ]
  },
  {
   "cell_type": "markdown",
   "metadata": {},
   "source": [
    "## Computing the LP"
   ]
  },
  {
   "cell_type": "code",
   "execution_count": null,
   "metadata": {},
   "outputs": [
    {
     "name": "stdout",
     "output_type": "stream",
     "text": [
      "Set parameter Username\n",
      "Set parameter LicenseID to value 2629995\n",
      "Academic license - for non-commercial use only - expires 2026-03-01\n"
     ]
    },
    {
     "name": "stdout",
     "output_type": "stream",
     "text": [
      "Gurobi Optimizer version 12.0.1 build v12.0.1rc0 (win64 - Windows 11.0 (26100.2))\n",
      "\n",
      "CPU model: AMD Ryzen 7 5800X3D 8-Core Processor, instruction set [SSE2|AVX|AVX2]\n",
      "Thread count: 8 physical cores, 16 logical processors, using up to 16 threads\n",
      "\n",
      "Optimize a model with 43957 rows, 22200 columns and 109512 nonzeros\n",
      "Model fingerprint: 0x9c558e9a\n",
      "Variable types: 148 continuous, 22052 integer (22052 binary)\n",
      "Coefficient statistics:\n",
      "  Matrix range     [1e-01, 7e+00]\n",
      "  Objective range  [1e+00, 1e+00]\n",
      "  Bounds range     [1e+00, 1e+00]\n",
      "  RHS range        [1e+00, 3e+00]\n",
      "Presolve removed 1187 rows and 592 columns\n",
      "Presolve time: 0.31s\n",
      "Presolved: 42770 rows, 21608 columns, 106856 nonzeros\n",
      "Variable types: 148 continuous, 21460 integer (21460 binary)\n",
      "Found heuristic solution: objective 6.5901442\n",
      "Found heuristic solution: objective 6.5314623\n",
      "Found heuristic solution: objective 6.1343296\n",
      "\n",
      "Deterministic concurrent LP optimizer: primal and dual simplex (primal and dual model)\n",
      "Showing primal log only...\n",
      "\n",
      "Root relaxation presolved: 42190 rows, 21318 columns, 105406 nonzeros\n",
      "\n",
      "Concurrent spin time: 0.48s (can be avoided by choosing Method=3)\n",
      "\n",
      "Solved with primal simplex\n",
      "\n",
      "Root relaxation: objective 1.891615e+00, 23529 iterations, 2.34 seconds (4.82 work units)\n",
      "\n",
      "    Nodes    |    Current Node    |     Objective Bounds      |     Work\n",
      " Expl Unexpl |  Obj  Depth IntInf | Incumbent    BestBd   Gap | It/Node Time\n",
      "\n",
      "     0     0    1.89161    0 1293    6.13433    1.89161  69.2%     -    5s\n",
      "     0     0    1.89227    0 1263    6.13433    1.89227  69.2%     -    6s\n",
      "H    0     0                       5.8296102    1.89227  67.5%     -    6s\n",
      "H    0     0                       5.4918067    1.89227  65.5%     -    6s\n",
      "H    0     0                       5.0688580    1.89227  62.7%     -    6s\n",
      "H    0     0                       5.0103179    1.89227  62.2%     -    6s\n",
      "H    0     0                       4.3607232    1.89227  56.6%     -    6s\n",
      "H    0     0                       4.3235596    1.89227  56.2%     -    6s\n",
      "H    0     0                       4.2600165    1.89227  55.6%     -    6s\n",
      "H    0     0                       3.7762415    1.89227  49.9%     -    7s\n",
      "H    0     0                       3.7013511    1.89227  48.9%     -    7s\n",
      "     0     0    2.13746    0  878    3.70135    2.13746  42.3%     -   11s\n",
      "     0     0    2.13746    0  749    3.70135    2.13746  42.3%     -   15s\n",
      "H    0     0                       3.6262929    2.13746  41.1%     -   15s\n",
      "H    0     0                       3.5888717    2.16072  39.8%     -   18s\n",
      "     0     0    2.16100    0 1543    3.58887    2.16100  39.8%     -   18s\n",
      "     0     0    2.16511    0 1138    3.58887    2.16511  39.7%     -   18s\n",
      "H    0     0                       3.5791060    2.16564  39.5%     -   18s\n",
      "     0     0    2.17301    0 1315    3.57911    2.17301  39.3%     -   19s\n",
      "H    0     0                       3.5594943    2.23976  37.1%     -   22s\n",
      "     0     0    2.25175    0 1387    3.55949    2.25175  36.7%     -   23s\n",
      "     0     0    2.25295    0 1532    3.55949    2.25295  36.7%     -   23s\n",
      "     0     0    2.34084    0 1457    3.55949    2.34084  34.2%     -   24s\n",
      "     0     0    2.34084    0 1456    3.55949    2.34084  34.2%     -   24s\n",
      "     0     0    2.34219    0 1348    3.55949    2.34219  34.2%     -   25s\n",
      "     0     0    2.40933    0 1249    3.55949    2.40933  32.3%     -   26s\n",
      "     0     0    2.40970    0 1451    3.55949    2.40970  32.3%     -   26s\n",
      "     0     0    2.41160    0 1151    3.55949    2.41160  32.2%     -   26s\n",
      "     0     0    2.41160    0 1150    3.55949    2.41160  32.2%     -   26s\n",
      "H    0     0                       3.5454196    2.41174  32.0%     -   26s\n",
      "     0     0    2.41174    0 1149    3.54542    2.41174  32.0%     -   27s\n",
      "     0     0    2.43026    0 1454    3.54542    2.43026  31.5%     -   27s\n",
      "     0     0    2.43028    0 1450    3.54542    2.43028  31.5%     -   27s\n",
      "     0     0    2.43036    0 1450    3.54542    2.43036  31.5%     -   27s\n",
      "     0     0    2.43631    0 1493    3.54542    2.43631  31.3%     -   28s\n",
      "     0     0    2.43631    0 1491    3.54542    2.43631  31.3%     -   28s\n",
      "     0     0    2.43663    0 1505    3.54542    2.43663  31.3%     -   28s\n",
      "     0     0    2.45005    0 1482    3.54542    2.45005  30.9%     -   29s\n",
      "     0     0    2.45005    0 1478    3.54542    2.45005  30.9%     -   29s\n",
      "     0     0    2.45022    0 1549    3.54542    2.45022  30.9%     -   30s\n",
      "     0     0    2.45959    0 1618    3.54542    2.45959  30.6%     -   31s\n",
      "     0     0    2.46111    0 1671    3.54542    2.46111  30.6%     -   31s\n",
      "     0     0    2.46111    0 1671    3.54542    2.46111  30.6%     -   31s\n",
      "     0     0    2.46112    0 1738    3.54542    2.46112  30.6%     -   31s\n",
      "     0     0    2.46813    0 1666    3.54542    2.46813  30.4%     -   32s\n",
      "     0     0    2.46830    0 1623    3.54542    2.46830  30.4%     -   33s\n",
      "     0     0    2.47243    0 1247    3.54542    2.47243  30.3%     -   34s\n",
      "     0     0    2.47343    0 1329    3.54542    2.47343  30.2%     -   35s\n",
      "     0     0    2.47343    0 1331    3.54542    2.47343  30.2%     -   35s\n",
      "     0     0    2.47962    0 1285    3.54542    2.47962  30.1%     -   36s\n",
      "     0     0    2.49042    0 1451    3.54542    2.49042  29.8%     -   36s\n",
      "     0     0    2.49063    0 1476    3.54542    2.49063  29.8%     -   37s\n",
      "     0     0    2.50113    0 1549    3.54542    2.50113  29.5%     -   37s\n",
      "     0     0    2.50122    0 1604    3.54542    2.50122  29.5%     -   37s\n",
      "     0     0    2.51680    0 1244    3.54542    2.51680  29.0%     -   39s\n",
      "     0     0    2.51681    0 1243    3.54542    2.51681  29.0%     -   39s\n",
      "     0     0    2.52418    0 1335    3.54542    2.52418  28.8%     -   40s\n",
      "     0     0    2.52446    0 1429    3.54542    2.52446  28.8%     -   41s\n",
      "     0     0    2.52447    0 1158    3.54542    2.52447  28.8%     -   42s\n",
      "     0     2    2.52448    0 1122    3.54542    2.52448  28.8%     -   45s\n",
      "     3     8    2.52793    2 1117    3.54542    2.52685  28.7% 17807   50s\n",
      "    15    20    2.54681    4 1173    3.54542    2.53326  28.5%  8415   56s\n",
      "    48    47    2.55855    7 1237    3.54542    2.53326  28.5%  4704   60s\n",
      "   128   102    2.59784   14 1302    3.54542    2.55661  27.9%  2642   65s\n",
      "   211   144    2.75174   17  623    3.54542    2.55975  27.8%  2147   70s\n",
      "   318   253    2.76176   28  675    3.54542    2.55977  27.8%  1792   76s\n",
      "   432   350    2.85542   35  509    3.54542    2.56247  27.7%  1609   80s\n",
      "   560   453    3.00929   48  622    3.54542    2.58405  27.1%  1466   85s\n",
      "   688   582    3.05852   61  589    3.54542    2.58405  27.1%  1349   90s\n",
      "   977   825    3.26146  101  754    3.54542    2.59917  26.7%  1181   96s\n",
      "  1240   949    3.32126   11  474    3.54542    2.64204  25.5%  1087  101s\n",
      "  1397  1058    2.99065   17  827    3.54542    2.64213  25.5%  1069  105s\n",
      "  1792  1350    3.52544   34  989    3.54542    2.67088  24.7%   972  111s\n",
      "  1942  1350    3.41899   65  878    3.54542    2.67088  24.7%   943  115s\n",
      "  1944  1351    3.47312   55 1139    3.54542    2.67088  24.7%   942  120s\n",
      "  1946  1353    3.16278   89 1610    3.54542    2.67088  24.7%   941  125s\n",
      "  1950  1355    3.22045   43 1394    3.54542    2.67088  24.7%   939  130s\n",
      "  1957  1360    3.05877   28 1348    3.54542    2.67088  24.7%   936  136s\n",
      "  1963  1364    2.93186   37 1226    3.54542    2.67088  24.7%   933  140s\n",
      "  1972  1370    3.30412   35 1123    3.54542    2.67186  24.6%   928  145s\n",
      "  1977  1373    2.91256   30  963    3.54542    2.73475  22.9%   926  151s\n",
      "  1982  1377    3.25253   32 1029    3.54542    2.76208  22.1%   924  155s\n",
      "  1989  1381    2.94905   46  943    3.54542    2.80090  21.0%   921  161s\n",
      "  1993  1384    2.87678   16 1036    3.54542    2.87678  18.9%   919  165s\n",
      "  1999  1388    2.98507   24  785    3.54542    2.98507  15.8%   916  170s\n",
      "  2001  1389    3.01633   60  864    3.54542    2.98651  15.8%   915  175s\n",
      "  2006  1393    3.10488   45 1033    3.54542    3.02213  14.8%   913  181s\n",
      "  2009  1395    3.38212   46  824    3.54542    3.05967  13.7%   911  186s\n",
      "  2015  1399    3.06177   17  898    3.54542    3.06177  13.6%   909  193s\n",
      "  2016  1399    3.26999   61  898    3.54542    3.06177  13.6%   908  195s\n",
      "  2020  1403    3.11423   27  913    3.54542    3.06177  13.6%  1068  201s\n",
      "  2024  1406    3.08209   37  851    3.54542    3.08209  13.1%  1066  205s\n",
      "  2031  1410    3.42463   46  886    3.54542    3.09120  12.8%  1062  210s\n",
      "  2047  1421    3.38042   17 1166    3.54542    3.14453  11.3%  1054  215s\n",
      "H 2055  1354                       3.4655447    3.17638  8.34%  1049  220s\n",
      "  2068  1364    3.25007   34  625    3.46554    3.25007  6.22%  1133  226s\n",
      "  2077  1371    3.27957   30  228    3.46554    3.27957  5.37%  1155  230s\n",
      "\n",
      "Cutting planes:\n",
      "  Implied bound: 220\n",
      "  Clique: 12\n",
      "  MIR: 2\n",
      "  Flow cover: 1300\n",
      "  RLT: 1\n",
      "  Relax-and-lift: 149\n",
      "\n",
      "Explored 2088 nodes (2774252 simplex iterations) in 234.74 seconds (420.88 work units)\n",
      "Thread count was 16 (of 16 available processors)\n",
      "\n",
      "Solution count 10: 3.46554 3.54542 3.55949 ... 4.26002\n",
      "\n",
      "Optimal solution found (tolerance 1.00e-04)\n",
      "Best objective 3.465544690233e+00, best bound 3.465544690233e+00, gap 0.0000%\n"
     ]
    }
   ],
   "source": [
    "# distance function\n",
    "dist = DistanceMetric.get_metric('euclidean')\n",
    "\n",
    "# we need all distances as possible radii\n",
    "radii = dist.pairwise(points)\n",
    "\n",
    "# model\n",
    "m = gp.Model(\"kmsr\")\n",
    "\n",
    "# variables\n",
    "R = m.addVars(len(radii), vtype=GRB.CONTINUOUS, lb=0, name=\"R\")\n",
    "L = m.addVars(len(radii), vtype=GRB.BINARY, name=\"L\")\n",
    "Y = m.addVars(len(radii), len(radii), vtype=GRB.BINARY, name=\"Y\")\n",
    "\n",
    "# objective function: minimize sum of r in R_i of i in L: y_{i,r}*r\n",
    "m.setObjective(gp.quicksum(R[i] for i in range(len(radii))), GRB.MINIMIZE)\n",
    "\n",
    "# constraints:\n",
    "# every point covered\n",
    "for j in range(len(radii)):\n",
    "    m.addConstr(gp.quicksum(Y[i, j] for i in range(len(radii))) >= 1, f\"coverage_{j}\")\n",
    "\n",
    "# covered point has to be within radius (easier to check in two steps than in the first constraint)\n",
    "for i in range(len(radii)):\n",
    "    for j in range(len(radii)):\n",
    "        m.addConstr(radii[i][j] * Y[i, j] <= R[i], f\"within_radius_{i}_{j}\")\n",
    "\n",
    "# if a point is covered by a center, that center must be open in this iteration\n",
    "for i in range(len(radii)):\n",
    "    for j in range(len(radii)):\n",
    "        m.addConstr(Y[i, j] <= L[i], f\"open_center_{i}_{j}\")\n",
    "\n",
    "# there can only be k centers open at a time\n",
    "m.addConstr(gp.quicksum(L[i] for i in range(len(radii))) == k, \"select_k_Centers\")\n",
    "\n",
    "# run gurobi optimizem.optimize()"
   ]
  },
  {
   "cell_type": "code",
   "execution_count": 9,
   "metadata": {},
   "outputs": [
    {
     "name": "stdout",
     "output_type": "stream",
     "text": [
      "Optimal centers:\n",
      "Center at point [4.3 3.  1.1 0.1] with radius 0.0\n",
      "Center at point [4.6 3.6 1.  0.2] with radius 0.0\n",
      "Center at point [6.1 2.8 4.  1.3] with radius 3.465544690232692\n"
     ]
    }
   ],
   "source": [
    "final_centers = [points[i] for i in range(len(radii)) if L[i].x == 1]\n",
    "final_radii = [R[i].x for i in range(len(radii)) if L[i].x == 1]\n",
    "\n",
    "print(\"Optimal centers:\")\n",
    "for i in range(len(final_centers)): \n",
    "    print(f\"Center at point {final_centers[i]} with radius {final_radii[i]}\")"
   ]
  }
 ],
 "metadata": {
  "kernelspec": {
   "display_name": "Python 3",
   "language": "python",
   "name": "python3"
  },
  "language_info": {
   "codemirror_mode": {
    "name": "ipython",
    "version": 3
   },
   "file_extension": ".py",
   "mimetype": "text/x-python",
   "name": "python",
   "nbconvert_exporter": "python",
   "pygments_lexer": "ipython3",
   "version": "3.11.9"
  }
 },
 "nbformat": 4,
 "nbformat_minor": 2
}
