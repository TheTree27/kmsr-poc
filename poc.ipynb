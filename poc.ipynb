{
 "cells": [
  {
   "cell_type": "markdown",
   "metadata": {},
   "source": [
    "# K-Min-Sum-Radii LP proof of concept"
   ]
  },
  {
   "cell_type": "markdown",
   "metadata": {},
   "source": [
    "The goal is to find the optimal solution to a linear program that calculates a k-msr solution to a given selection of points and an integer k. Gurobi is used to calculate the solution within the necessary constraints. This notebook is supposed to be an exercise to find these specific constraints and to improve my grasp on the problem itself, before proceeding with implementing an algorithm of my own."
   ]
  },
  {
   "cell_type": "code",
   "execution_count": 1,
   "metadata": {},
   "outputs": [],
   "source": [
    "import gurobipy as gp\n",
    "from gurobipy import GRB\n",
    "import matplotlib.pyplot as plt\n",
    "from sklearn.datasets import make_blobs\n",
    "from sklearn.metrics import DistanceMetric\n",
    "from scipy.spatial import distance as dist"
   ]
  },
  {
   "cell_type": "markdown",
   "metadata": {},
   "source": [
    "We need data points to perform the clustering on. An easy stand-in for actual data are sklearn blobs, that form very obvious clusters and are verifiable by hand if they are small enough."
   ]
  },
  {
   "cell_type": "code",
   "execution_count": null,
   "metadata": {},
   "outputs": [
    {
     "data": {
      "image/png": "[encoded data removed]",
      "text/plain": [
       "<Figure size 640x480 with 1 Axes>"
      ]
     },
     "metadata": {},
     "output_type": "display_data"
    }
   ],
   "source": [
    "# generate dummy data for k=2\n",
    "k = 2\n",
    "points, cluster_membership = make_blobs(\n",
    "    n_samples=10,\n",
    "    n_features=2,\n",
    "    centers=k,\n",
    "    random_state=42\n",
    ")\n",
    "\n",
    "plt.title(\"Dummy data\")\n",
    "plt.scatter(points[:, 0], points[:, 1], marker='o', c=cluster_membership, s=25, edgecolor=\"k\", cmap=\"coolwarm\")\n",
    "plt.show()"
   ]
  },
  {
   "cell_type": "code",
   "execution_count": 3,
   "metadata": {},
   "outputs": [
    {
     "data": {
      "text/plain": [
       "array([[ 2.914961  ,  1.41088215],\n",
       "       [-2.97261532,  8.54855637],\n",
       "       [-0.92998481,  9.78172086],\n",
       "       [ 3.62704772,  2.28741702],\n",
       "       [-2.743351  ,  8.78014917],\n",
       "       [ 3.73185476,  0.56086598],\n",
       "       [ 4.70740704,  0.5484215 ],\n",
       "       [-2.26723535,  7.10100588],\n",
       "       [-2.97867201,  9.55684617],\n",
       "       [ 6.10552761,  1.74739338]])"
      ]
     },
     "execution_count": 3,
     "metadata": {},
     "output_type": "execute_result"
    }
   ],
   "source": [
    "points"
   ]
  },
  {
   "cell_type": "code",
   "execution_count": 4,
   "metadata": {},
   "outputs": [
    {
     "data": {
      "text/plain": [
       "array([[ 0.        ,  9.25256441,  9.21165289,  1.12932761,  9.29099516,\n",
       "         1.17891599,  1.98914584,  7.69627618, 10.05443384,  3.20826356],\n",
       "       [ 9.25256441,  0.        ,  2.38600797,  9.09711043,  0.32587935,\n",
       "        10.42847625, 11.08985579,  1.61026809,  1.00830799, 11.34321369],\n",
       "       [ 9.21165289,  2.38600797,  0.        ,  8.77103959,  2.07157978,\n",
       "        10.33232369, 10.81822554,  2.99574228,  2.06099196, 10.67936575],\n",
       "       [ 1.12932761,  9.09711043,  8.77103959,  0.        ,  9.09601839,\n",
       "         1.72972917,  2.047262  ,  7.61007297,  9.82243011,  2.53662928],\n",
       "       [ 9.29099516,  0.32587935,  2.07157978,  9.09601839,  0.        ,\n",
       "        10.46350351, 11.10293366,  1.74533902,  0.81156282, 11.30319895],\n",
       "       [ 1.17891599, 10.42847625, 10.33232369,  1.72972917, 10.46350351,\n",
       "         0.        ,  0.97563165,  8.87482462, 11.22313811,  2.65370873],\n",
       "       [ 1.98914584, 11.08985579, 10.81822554,  2.047262  , 11.10293366,\n",
       "         0.97563165,  0.        ,  9.56984841, 11.8417704 ,  1.84181288],\n",
       "       [ 7.69627618,  1.61026809,  2.99574228,  7.61007297,  1.74533902,\n",
       "         8.87482462,  9.56984841,  0.        ,  2.55681318,  9.93802427],\n",
       "       [10.05443384,  1.00830799,  2.06099196,  9.82243011,  0.81156282,\n",
       "        11.22313811, 11.8417704 ,  2.55681318,  0.        , 11.97957576],\n",
       "       [ 3.20826356, 11.34321369, 10.67936575,  2.53662928, 11.30319895,\n",
       "         2.65370873,  1.84181288,  9.93802427, 11.97957576,  0.        ]])"
      ]
     },
     "execution_count": 4,
     "metadata": {},
     "output_type": "execute_result"
    }
   ],
   "source": [
    "# distance function\n",
    "distances = DistanceMetric.get_metric('euclidean')\n",
    "\n",
    "# we need all distances as possible radii\n",
    "radii = distances.pairwise(points)\n",
    "radii\n"
   ]
  },
  {
   "cell_type": "code",
   "execution_count": null,
   "metadata": {},
   "outputs": [
    {
     "data": {
      "text/plain": [
       "[[[1, 1, 1, 1, 1, 1, 1, 1, 1, 1],\n",
       "  [1, 0, 0, 1, 0, 1, 1, 0, 0, 1],\n",
       "  [1, 0, 0, 1, 0, 1, 1, 0, 0, 1],\n",
       "  [1, 0, 0, 0, 0, 1, 1, 0, 0, 0],\n",
       "  [1, 0, 0, 1, 0, 1, 1, 0, 0, 1],\n",
       "  [1, 1, 1, 1, 1, 0, 0, 1, 1, 0],\n",
       "  [1, 1, 1, 1, 1, 0, 0, 1, 1, 0],\n",
       "  [1, 0, 0, 1, 0, 1, 1, 0, 0, 1],\n",
       "  [1, 0, 0, 1, 0, 1, 1, 0, 0, 1],\n",
       "  [1, 1, 1, 1, 1, 1, 0, 1, 1, 0]],\n",
       " [[0, 1, 1, 0, 1, 0, 0, 1, 1, 0],\n",
       "  [1, 1, 1, 1, 1, 1, 1, 1, 1, 1],\n",
       "  [0, 1, 0, 0, 1, 0, 0, 1, 1, 0],\n",
       "  [0, 1, 1, 0, 1, 0, 0, 1, 1, 0],\n",
       "  [1, 1, 0, 0, 0, 1, 1, 1, 0, 0],\n",
       "  [0, 1, 1, 0, 1, 0, 0, 1, 1, 0],\n",
       "  [0, 1, 1, 0, 1, 0, 0, 1, 1, 0],\n",
       "  [0, 1, 1, 0, 1, 0, 0, 0, 1, 0],\n",
       "  [1, 1, 0, 1, 1, 1, 1, 1, 0, 1],\n",
       "  [0, 1, 1, 0, 1, 0, 0, 1, 1, 0]],\n",
       " [[0, 1, 1, 0, 1, 0, 0, 1, 1, 0],\n",
       "  [1, 0, 1, 1, 0, 1, 1, 0, 0, 1],\n",
       "  [1, 1, 1, 1, 1, 1, 1, 1, 1, 1],\n",
       "  [0, 1, 1, 0, 1, 0, 0, 1, 1, 0],\n",
       "  [1, 0, 1, 1, 0, 1, 1, 0, 0, 1],\n",
       "  [0, 1, 1, 0, 1, 0, 0, 1, 1, 0],\n",
       "  [0, 1, 1, 0, 1, 0, 0, 1, 1, 0],\n",
       "  [0, 0, 1, 0, 0, 0, 0, 0, 1, 0],\n",
       "  [1, 0, 1, 1, 0, 1, 1, 0, 0, 1],\n",
       "  [0, 1, 1, 0, 1, 0, 0, 1, 1, 0]],\n",
       " [[0, 1, 1, 1, 1, 0, 0, 1, 1, 1],\n",
       "  [1, 0, 0, 1, 0, 1, 1, 0, 0, 1],\n",
       "  [1, 0, 0, 1, 0, 1, 1, 0, 0, 1],\n",
       "  [1, 1, 1, 1, 1, 1, 1, 1, 1, 1],\n",
       "  [1, 0, 0, 1, 0, 1, 1, 0, 0, 1],\n",
       "  [1, 1, 1, 1, 1, 0, 0, 1, 1, 1],\n",
       "  [1, 1, 1, 1, 1, 0, 0, 1, 1, 0],\n",
       "  [1, 0, 0, 1, 0, 1, 1, 0, 0, 1],\n",
       "  [1, 0, 0, 1, 0, 1, 1, 0, 0, 1],\n",
       "  [1, 1, 1, 1, 1, 1, 0, 1, 1, 0]],\n",
       " [[0, 1, 1, 0, 1, 0, 0, 1, 1, 0],\n",
       "  [0, 0, 1, 1, 1, 0, 0, 0, 1, 1],\n",
       "  [0, 1, 0, 0, 1, 0, 0, 1, 1, 0],\n",
       "  [0, 1, 1, 0, 1, 0, 0, 1, 1, 0],\n",
       "  [1, 1, 1, 1, 1, 1, 1, 1, 1, 1],\n",
       "  [0, 1, 1, 0, 1, 0, 0, 1, 1, 0],\n",
       "  [0, 1, 1, 0, 1, 0, 0, 1, 1, 0],\n",
       "  [0, 1, 1, 0, 1, 0, 0, 0, 1, 0],\n",
       "  [1, 1, 0, 1, 1, 1, 1, 1, 0, 1],\n",
       "  [0, 1, 1, 0, 1, 0, 0, 1, 1, 0]],\n",
       " [[0, 0, 0, 0, 0, 1, 1, 0, 0, 1],\n",
       "  [1, 0, 0, 1, 0, 1, 1, 0, 0, 1],\n",
       "  [1, 0, 0, 1, 0, 1, 1, 0, 0, 1],\n",
       "  [0, 0, 0, 0, 0, 1, 1, 0, 0, 0],\n",
       "  [1, 0, 0, 1, 0, 1, 1, 0, 0, 1],\n",
       "  [1, 1, 1, 1, 1, 1, 1, 1, 1, 1],\n",
       "  [1, 1, 1, 1, 1, 1, 0, 1, 1, 0],\n",
       "  [1, 0, 0, 1, 0, 1, 1, 0, 0, 1],\n",
       "  [1, 0, 0, 1, 0, 1, 1, 0, 0, 1],\n",
       "  [1, 1, 1, 1, 1, 1, 1, 1, 1, 0]],\n",
       " [[0, 0, 0, 0, 0, 1, 1, 0, 0, 1],\n",
       "  [1, 0, 0, 1, 0, 1, 1, 0, 0, 1],\n",
       "  [1, 0, 0, 1, 0, 1, 1, 0, 0, 1],\n",
       "  [0, 0, 0, 0, 0, 1, 1, 0, 0, 1],\n",
       "  [1, 0, 0, 1, 0, 1, 1, 0, 0, 1],\n",
       "  [0, 0, 0, 0, 0, 0, 1, 0, 0, 1],\n",
       "  [1, 1, 1, 1, 1, 1, 1, 1, 1, 1],\n",
       "  [1, 0, 0, 1, 0, 1, 1, 0, 0, 1],\n",
       "  [1, 0, 0, 1, 0, 1, 1, 0, 0, 1],\n",
       "  [1, 1, 0, 1, 1, 1, 1, 1, 1, 0]],\n",
       " [[0, 1, 1, 0, 1, 0, 0, 1, 1, 0],\n",
       "  [1, 0, 0, 1, 0, 1, 1, 1, 0, 1],\n",
       "  [1, 1, 0, 1, 1, 1, 1, 1, 0, 1],\n",
       "  [0, 1, 1, 0, 1, 0, 0, 1, 1, 0],\n",
       "  [1, 0, 0, 1, 0, 1, 1, 1, 0, 1],\n",
       "  [0, 1, 1, 0, 1, 0, 0, 1, 1, 0],\n",
       "  [0, 1, 1, 0, 1, 0, 0, 1, 1, 0],\n",
       "  [1, 1, 1, 1, 1, 1, 1, 1, 1, 1],\n",
       "  [1, 0, 0, 1, 0, 1, 1, 1, 0, 1],\n",
       "  [0, 1, 1, 0, 1, 0, 0, 1, 1, 0]],\n",
       " [[0, 1, 1, 0, 1, 0, 0, 1, 1, 0],\n",
       "  [0, 0, 1, 0, 0, 0, 0, 0, 1, 0],\n",
       "  [0, 1, 0, 0, 1, 0, 0, 1, 1, 0],\n",
       "  [0, 1, 1, 0, 1, 0, 0, 1, 1, 0],\n",
       "  [0, 0, 1, 0, 0, 0, 0, 0, 1, 0],\n",
       "  [0, 1, 1, 0, 1, 0, 0, 1, 1, 0],\n",
       "  [0, 1, 1, 0, 1, 0, 0, 1, 1, 0],\n",
       "  [0, 1, 1, 0, 1, 0, 0, 0, 1, 0],\n",
       "  [1, 1, 1, 1, 1, 1, 1, 1, 1, 1],\n",
       "  [0, 1, 1, 0, 1, 0, 0, 1, 1, 0]],\n",
       " [[0, 0, 0, 0, 0, 0, 1, 0, 0, 1],\n",
       "  [1, 0, 0, 1, 0, 1, 1, 0, 0, 1],\n",
       "  [1, 0, 0, 1, 0, 1, 1, 0, 0, 1],\n",
       "  [0, 0, 0, 0, 0, 0, 1, 0, 0, 1],\n",
       "  [1, 0, 0, 1, 0, 1, 1, 0, 0, 1],\n",
       "  [0, 0, 0, 0, 0, 0, 0, 0, 0, 1],\n",
       "  [0, 0, 1, 0, 0, 0, 0, 0, 0, 1],\n",
       "  [1, 0, 0, 1, 0, 1, 1, 0, 0, 1],\n",
       "  [1, 0, 0, 1, 0, 1, 1, 0, 0, 1],\n",
       "  [1, 1, 1, 1, 1, 1, 1, 1, 1, 1]]]"
      ]
     },
     "execution_count": 5,
     "metadata": {},
     "output_type": "execute_result"
    }
   ],
   "source": [
    "# pre-processing by which center-radius combinations a point would be covered  \n",
    "\"\"\"Y =[]\n",
    "for k in range(len(points)):       \n",
    "    Y.append([])\n",
    "    for i in range(len(points)):\n",
    "        Y[k].append([])\n",
    "        for j in range(len(points)):\n",
    "            if (dist.euclidean(points[k], points[j]) <= radii[i][j]):                 \n",
    "                Y[k][i].append(1)\n",
    "            else:\n",
    "                Y[k][i].append(0)\n",
    "Y\"\"\""
   ]
  },
  {
   "cell_type": "markdown",
   "metadata": {},
   "source": [
    "## Defining the ILP"
   ]
  },
  {
   "cell_type": "code",
   "execution_count": 6,
   "metadata": {},
   "outputs": [
    {
     "name": "stdout",
     "output_type": "stream",
     "text": [
      "Set parameter Username\n",
      "Set parameter LicenseID to value 2629995\n",
      "Academic license - for non-commercial use only - expires 2026-03-01\n"
     ]
    }
   ],
   "source": [
    "# model\n",
    "m = gp.Model(\"kmsr\")\n",
    "\n",
    "# variables\n",
    "y = m.addVars(len(points), len(points), vtype=GRB.BINARY, name=\"Y\") # for dummies (me): adds a 10x10 grid of binary variables y_ij that can be either 0 or 1, which will be used to check which clusters overlap a given point"
   ]
  },
  {
   "cell_type": "code",
   "execution_count": 7,
   "metadata": {},
   "outputs": [],
   "source": [
    "# objective:\n",
    "m.setObjective(gp.quicksum([y[i, j] * radii[i][j] for i in range(len(radii)) for j in range(len(radii))]),  GRB.MINIMIZE) # should be the minimization of the sum of active y_ij times their respective radii"
   ]
  },
  {
   "cell_type": "code",
   "execution_count": 8,
   "metadata": {},
   "outputs": [
    {
     "name": "stdout",
     "output_type": "stream",
     "text": [
      "<bound method tupledict.keys of {(0, 0): <gurobi.Var *Awaiting Model Update*>, (0, 1): <gurobi.Var *Awaiting Model Update*>, (0, 2): <gurobi.Var *Awaiting Model Update*>, (0, 3): <gurobi.Var *Awaiting Model Update*>, (0, 4): <gurobi.Var *Awaiting Model Update*>, (0, 5): <gurobi.Var *Awaiting Model Update*>, (0, 6): <gurobi.Var *Awaiting Model Update*>, (0, 7): <gurobi.Var *Awaiting Model Update*>, (0, 8): <gurobi.Var *Awaiting Model Update*>, (0, 9): <gurobi.Var *Awaiting Model Update*>, (1, 0): <gurobi.Var *Awaiting Model Update*>, (1, 1): <gurobi.Var *Awaiting Model Update*>, (1, 2): <gurobi.Var *Awaiting Model Update*>, (1, 3): <gurobi.Var *Awaiting Model Update*>, (1, 4): <gurobi.Var *Awaiting Model Update*>, (1, 5): <gurobi.Var *Awaiting Model Update*>, (1, 6): <gurobi.Var *Awaiting Model Update*>, (1, 7): <gurobi.Var *Awaiting Model Update*>, (1, 8): <gurobi.Var *Awaiting Model Update*>, (1, 9): <gurobi.Var *Awaiting Model Update*>, (2, 0): <gurobi.Var *Awaiting Model Update*>, (2, 1): <gurobi.Var *Awaiting Model Update*>, (2, 2): <gurobi.Var *Awaiting Model Update*>, (2, 3): <gurobi.Var *Awaiting Model Update*>, (2, 4): <gurobi.Var *Awaiting Model Update*>, (2, 5): <gurobi.Var *Awaiting Model Update*>, (2, 6): <gurobi.Var *Awaiting Model Update*>, (2, 7): <gurobi.Var *Awaiting Model Update*>, (2, 8): <gurobi.Var *Awaiting Model Update*>, (2, 9): <gurobi.Var *Awaiting Model Update*>, (3, 0): <gurobi.Var *Awaiting Model Update*>, (3, 1): <gurobi.Var *Awaiting Model Update*>, (3, 2): <gurobi.Var *Awaiting Model Update*>, (3, 3): <gurobi.Var *Awaiting Model Update*>, (3, 4): <gurobi.Var *Awaiting Model Update*>, (3, 5): <gurobi.Var *Awaiting Model Update*>, (3, 6): <gurobi.Var *Awaiting Model Update*>, (3, 7): <gurobi.Var *Awaiting Model Update*>, (3, 8): <gurobi.Var *Awaiting Model Update*>, (3, 9): <gurobi.Var *Awaiting Model Update*>, (4, 0): <gurobi.Var *Awaiting Model Update*>, (4, 1): <gurobi.Var *Awaiting Model Update*>, (4, 2): <gurobi.Var *Awaiting Model Update*>, (4, 3): <gurobi.Var *Awaiting Model Update*>, (4, 4): <gurobi.Var *Awaiting Model Update*>, (4, 5): <gurobi.Var *Awaiting Model Update*>, (4, 6): <gurobi.Var *Awaiting Model Update*>, (4, 7): <gurobi.Var *Awaiting Model Update*>, (4, 8): <gurobi.Var *Awaiting Model Update*>, (4, 9): <gurobi.Var *Awaiting Model Update*>, (5, 0): <gurobi.Var *Awaiting Model Update*>, (5, 1): <gurobi.Var *Awaiting Model Update*>, (5, 2): <gurobi.Var *Awaiting Model Update*>, (5, 3): <gurobi.Var *Awaiting Model Update*>, (5, 4): <gurobi.Var *Awaiting Model Update*>, (5, 5): <gurobi.Var *Awaiting Model Update*>, (5, 6): <gurobi.Var *Awaiting Model Update*>, (5, 7): <gurobi.Var *Awaiting Model Update*>, (5, 8): <gurobi.Var *Awaiting Model Update*>, (5, 9): <gurobi.Var *Awaiting Model Update*>, (6, 0): <gurobi.Var *Awaiting Model Update*>, (6, 1): <gurobi.Var *Awaiting Model Update*>, (6, 2): <gurobi.Var *Awaiting Model Update*>, (6, 3): <gurobi.Var *Awaiting Model Update*>, (6, 4): <gurobi.Var *Awaiting Model Update*>, (6, 5): <gurobi.Var *Awaiting Model Update*>, (6, 6): <gurobi.Var *Awaiting Model Update*>, (6, 7): <gurobi.Var *Awaiting Model Update*>, (6, 8): <gurobi.Var *Awaiting Model Update*>, (6, 9): <gurobi.Var *Awaiting Model Update*>, (7, 0): <gurobi.Var *Awaiting Model Update*>, (7, 1): <gurobi.Var *Awaiting Model Update*>, (7, 2): <gurobi.Var *Awaiting Model Update*>, (7, 3): <gurobi.Var *Awaiting Model Update*>, (7, 4): <gurobi.Var *Awaiting Model Update*>, (7, 5): <gurobi.Var *Awaiting Model Update*>, (7, 6): <gurobi.Var *Awaiting Model Update*>, (7, 7): <gurobi.Var *Awaiting Model Update*>, (7, 8): <gurobi.Var *Awaiting Model Update*>, (7, 9): <gurobi.Var *Awaiting Model Update*>, (8, 0): <gurobi.Var *Awaiting Model Update*>, (8, 1): <gurobi.Var *Awaiting Model Update*>, (8, 2): <gurobi.Var *Awaiting Model Update*>, (8, 3): <gurobi.Var *Awaiting Model Update*>, (8, 4): <gurobi.Var *Awaiting Model Update*>, (8, 5): <gurobi.Var *Awaiting Model Update*>, (8, 6): <gurobi.Var *Awaiting Model Update*>, (8, 7): <gurobi.Var *Awaiting Model Update*>, (8, 8): <gurobi.Var *Awaiting Model Update*>, (8, 9): <gurobi.Var *Awaiting Model Update*>, (9, 0): <gurobi.Var *Awaiting Model Update*>, (9, 1): <gurobi.Var *Awaiting Model Update*>, (9, 2): <gurobi.Var *Awaiting Model Update*>, (9, 3): <gurobi.Var *Awaiting Model Update*>, (9, 4): <gurobi.Var *Awaiting Model Update*>, (9, 5): <gurobi.Var *Awaiting Model Update*>, (9, 6): <gurobi.Var *Awaiting Model Update*>, (9, 7): <gurobi.Var *Awaiting Model Update*>, (9, 8): <gurobi.Var *Awaiting Model Update*>, (9, 9): <gurobi.Var *Awaiting Model Update*>}>\n"
     ]
    }
   ],
   "source": [
    "print(y.keys)"
   ]
  },
  {
   "cell_type": "code",
   "execution_count": 9,
   "metadata": {},
   "outputs": [
    {
     "data": {
      "text/plain": [
       "<gurobi.Constr *Awaiting Model Update*>"
      ]
     },
     "execution_count": 9,
     "metadata": {},
     "output_type": "execute_result"
    }
   ],
   "source": [
    "# constraints:\n",
    "\n",
    "# every point is covered by atleast one center/radius y_ij\n",
    "#for i in range(len(points)):\n",
    "    #m.addConstr(gp.quicksum([y[i, j] for j in range(len(points))]) >= 1)\n",
    "\n",
    "\n",
    "# exactly k centers open in total (not per row of y, so we don't get the sum of 10 different solutions)\n",
    "m.addConstr(gp.quicksum([y[i, j] for i in range (len(points)) for j in range(len(points))]) == 2, \"select_k_Centers\")"
   ]
  },
  {
   "cell_type": "code",
   "execution_count": 10,
   "metadata": {},
   "outputs": [
    {
     "name": "stdout",
     "output_type": "stream",
     "text": [
      "Gurobi Optimizer version 12.0.1 build v12.0.1rc0 (win64 - Windows 11.0 (26100.2))\n",
      "\n",
      "CPU model: AMD Ryzen 7 5800X3D 8-Core Processor, instruction set [SSE2|AVX|AVX2]\n",
      "Thread count: 8 physical cores, 16 logical processors, using up to 16 threads\n",
      "\n",
      "Optimize a model with 1 rows, 100 columns and 100 nonzeros\n",
      "Model fingerprint: 0x521bff34\n",
      "Variable types: 0 continuous, 100 integer (100 binary)\n",
      "Coefficient statistics:\n",
      "  Matrix range     [1e+00, 1e+00]\n",
      "  Objective range  [3e-01, 1e+01]\n",
      "  Bounds range     [1e+00, 1e+00]\n",
      "  RHS range        [2e+00, 2e+00]\n",
      "Found heuristic solution: objective 9.2525644\n",
      "Presolve removed 1 rows and 100 columns\n",
      "Presolve time: 0.00s\n",
      "Presolve: All rows and columns removed\n",
      "\n",
      "Explored 0 nodes (0 simplex iterations) in 0.01 seconds (0.00 work units)\n",
      "Thread count was 1 (of 16 available processors)\n",
      "\n",
      "Solution count 2: 0 9.25256 \n",
      "\n",
      "Optimal solution found (tolerance 1.00e-04)\n",
      "Best objective 0.000000000000e+00, best bound 0.000000000000e+00, gap 0.0000%\n"
     ]
    }
   ],
   "source": [
    "# do the thing\n",
    "m.optimize()"
   ]
  },
  {
   "cell_type": "code",
   "execution_count": 11,
   "metadata": {},
   "outputs": [
    {
     "name": "stdout",
     "output_type": "stream",
     "text": [
      "Minimize\n",
      "9.252564411486777 Y[0,1] + 9.211652885195841 Y[0,2] + 1.1293276095427889 Y[0,3]\n",
      "+ 9.290995160230224 Y[0,4] + 1.1789159864189187 Y[0,5] + 1.9891458420897201 Y[0,6]\n",
      "+ 7.6962761848431205 Y[0,7] + 10.054433840652383 Y[0,8] + 3.2082635560794674 Y[0,9]\n",
      "+ 9.252564411486777 Y[1,0] + 2.386007970432814 Y[1,2] + 9.09711043102228 Y[1,3]\n",
      "+ 0.3258793503670385 Y[1,4] + 10.428476245667978 Y[1,5] + 11.089855790282579 Y[1,6]\n",
      "+ 1.6102680889822019 Y[1,7] + 1.0083079879584977 Y[1,8] + 11.343213694843513 Y[1,9]\n",
      "+ 9.211652885195841 Y[2,0] + 2.386007970432814 Y[2,1] + 8.771039589361056 Y[2,3]\n",
      "+ 2.0715797793648414 Y[2,4] + 10.332323687401857 Y[2,5] + 10.818225543846411 Y[2,6]\n",
      "+ 2.9957422766460393 Y[2,7] + 2.06099196348809 Y[2,8] + 10.67936575209419 Y[2,9]\n",
      "+ 1.1293276095427889 Y[3,0] + 9.09711043102228 Y[3,1] + 8.771039589361056 Y[3,2]\n",
      "+ 9.096018392899788 Y[3,4] + 1.7297291664908652 Y[3,5] + 2.0472619973026385 Y[3,6]\n",
      "+ 7.610072973300392 Y[3,7] + 9.822430113106464 Y[3,8] + 2.536629276369174 Y[3,9]\n",
      "+ 9.290995160230224 Y[4,0] + 0.3258793503670385 Y[4,1] + 2.0715797793648414 Y[4,2]\n",
      "+ 9.096018392899788 Y[4,3] + 10.463503512199539 Y[4,5] + 11.102933659270455 Y[4,6]\n",
      "+ 1.7453390184426778 Y[4,7] + 0.8115628188612077 Y[4,8] + 11.30319894985841 Y[4,9]\n",
      "+ 1.1789159864189187 Y[5,0] + 10.428476245667978 Y[5,1] + 10.332323687401857 Y[5,2]\n",
      "+ 1.7297291664908652 Y[5,3] + 10.463503512199539 Y[5,4] + 0.975631650073492 Y[5,6]\n",
      "+ 8.874824623507907 Y[5,7] + 11.22313811243923 Y[5,8] + 2.6537087340945895 Y[5,9]\n",
      "+ 1.9891458420897201 Y[6,0] + 11.089855790282579 Y[6,1] + 10.818225543846411 Y[6,2]\n",
      "+ 2.0472619973026385 Y[6,3] + 11.102933659270455 Y[6,4] + 0.975631650073492 Y[6,5]\n",
      "+ 9.56984841233679 Y[6,7] + 11.841770402669026 Y[6,8] + 1.841812882704574 Y[6,9]\n",
      "+ 7.6962761848431205 Y[7,0] + 1.6102680889822019 Y[7,1] + 2.9957422766460393 Y[7,2]\n",
      "+ 7.610072973300392 Y[7,3] + 1.7453390184426778 Y[7,4] + 8.874824623507907 Y[7,5]\n",
      "+ 9.56984841233679 Y[7,6] + 2.5568131803081324 Y[7,8] + 9.938024266880355 Y[7,9]\n",
      "+ 10.054433840652383 Y[8,0] + 1.0083079879584977 Y[8,1] + 2.06099196348809 Y[8,2]\n",
      "+ 9.822430113106464 Y[8,3] + 0.8115628188612077 Y[8,4] + 11.22313811243923 Y[8,5]\n",
      "+ 11.841770402669026 Y[8,6] + 2.5568131803081324 Y[8,7] + 11.979575763884544 Y[8,9]\n",
      "+ 3.2082635560794674 Y[9,0] + 11.343213694843513 Y[9,1] + 10.67936575209419 Y[9,2]\n",
      "+ 2.536629276369174 Y[9,3] + 11.30319894985841 Y[9,4] + 2.6537087340945895 Y[9,5]\n",
      "+ 1.841812882704574 Y[9,6] + 9.938024266880355 Y[9,7] + 11.979575763884544 Y[9,8]\n",
      "Subject To\n",
      "select_k_Centers: Y[0,0] + Y[0,1] + Y[0,2] + Y[0,3] + Y[0,4] + Y[0,5] + Y[0,6] + Y[0,7]\n",
      "+ Y[0,8] + Y[0,9] + Y[1,0] + Y[1,1] + Y[1,2] + Y[1,3] + Y[1,4] + Y[1,5] + Y[1,6] +\n",
      "Y[1,7] + Y[1,8] + Y[1,9] + Y[2,0] + Y[2,1] + Y[2,2] + Y[2,3] + Y[2,4] + Y[2,5] + Y[2,6]\n",
      "+ Y[2,7] + Y[2,8] + Y[2,9] + Y[3,0] + Y[3,1] + Y[3,2] + Y[3,3] + Y[3,4] + Y[3,5] +\n",
      "Y[3,6] + Y[3,7] + Y[3,8] + Y[3,9] + Y[4,0] + Y[4,1] + Y[4,2] + Y[4,3] + Y[4,4] + Y[4,5]\n",
      "+ Y[4,6] + Y[4,7] + Y[4,8] + Y[4,9] + Y[5,0] + Y[5,1] + Y[5,2] + Y[5,3] + Y[5,4] +\n",
      "Y[5,5] + Y[5,6] + Y[5,7] + Y[5,8] + Y[5,9] + Y[6,0] + Y[6,1] + Y[6,2] + Y[6,3] + Y[6,4]\n",
      "+ Y[6,5] + Y[6,6] + Y[6,7] + Y[6,8] + Y[6,9] + Y[7,0] + Y[7,1] + Y[7,2] + Y[7,3] +\n",
      "Y[7,4] + Y[7,5] + Y[7,6] + Y[7,7] + Y[7,8] + Y[7,9] + Y[8,0] + Y[8,1] + Y[8,2] + Y[8,3]\n",
      "+ Y[8,4] + Y[8,5] + Y[8,6] + Y[8,7] + Y[8,8] + Y[8,9] + Y[9,0] + Y[9,1] + Y[9,2] +\n",
      " Y[9,3] + Y[9,4] + Y[9,5] + Y[9,6] + Y[9,7] + Y[9,8] + Y[9,9] = 2\n",
      "Binaries\n",
      "['Y[0,0]', 'Y[0,1]', 'Y[0,2]', 'Y[0,3]', 'Y[0,4]', 'Y[0,5]', 'Y[0,6]', 'Y[0,7]',\n",
      "'Y[0,8]', 'Y[0,9]', 'Y[1,0]', 'Y[1,1]', 'Y[1,2]', 'Y[1,3]', 'Y[1,4]', 'Y[1,5]',\n",
      "'Y[1,6]', 'Y[1,7]', 'Y[1,8]', 'Y[1,9]', 'Y[2,0]', 'Y[2,1]', 'Y[2,2]', 'Y[2,3]',\n",
      "'Y[2,4]', 'Y[2,5]', 'Y[2,6]', 'Y[2,7]', 'Y[2,8]', 'Y[2,9]', 'Y[3,0]', 'Y[3,1]',\n",
      "'Y[3,2]', 'Y[3,3]', 'Y[3,4]', 'Y[3,5]', 'Y[3,6]', 'Y[3,7]', 'Y[3,8]', 'Y[3,9]',\n",
      "'Y[4,0]', 'Y[4,1]', 'Y[4,2]', 'Y[4,3]', 'Y[4,4]', 'Y[4,5]', 'Y[4,6]', 'Y[4,7]',\n",
      "'Y[4,8]', 'Y[4,9]', 'Y[5,0]', 'Y[5,1]', 'Y[5,2]', 'Y[5,3]', 'Y[5,4]', 'Y[5,5]',\n",
      "'Y[5,6]', 'Y[5,7]', 'Y[5,8]', 'Y[5,9]', 'Y[6,0]', 'Y[6,1]', 'Y[6,2]', 'Y[6,3]',\n",
      "'Y[6,4]', 'Y[6,5]', 'Y[6,6]', 'Y[6,7]', 'Y[6,8]', 'Y[6,9]', 'Y[7,0]', 'Y[7,1]',\n",
      "'Y[7,2]', 'Y[7,3]', 'Y[7,4]', 'Y[7,5]', 'Y[7,6]', 'Y[7,7]', 'Y[7,8]', 'Y[7,9]',\n",
      "'Y[8,0]', 'Y[8,1]', 'Y[8,2]', 'Y[8,3]', 'Y[8,4]', 'Y[8,5]', 'Y[8,6]', 'Y[8,7]',\n",
      "'Y[8,8]', 'Y[8,9]', 'Y[9,0]', 'Y[9,1]', 'Y[9,2]', 'Y[9,3]', 'Y[9,4]', 'Y[9,5]',\n",
      " 'Y[9,6]', 'Y[9,7]', 'Y[9,8]', 'Y[9,9]']\n"
     ]
    },
    {
     "name": "stderr",
     "output_type": "stream",
     "text": [
      "C:\\Users\\Mattis\\AppData\\Local\\Temp\\ipykernel_15324\\137993151.py:1: DeprecationWarning: Model.display() is deprecated\n",
      "  m.display()\n"
     ]
    }
   ],
   "source": [
    "m.display()"
   ]
  },
  {
   "cell_type": "code",
   "execution_count": 12,
   "metadata": {},
   "outputs": [
    {
     "name": "stdout",
     "output_type": "stream",
     "text": [
      "Y[0,0] = 1.0\n",
      "Y[9,9] = 1.0\n"
     ]
    }
   ],
   "source": [
    "for v in m.getVars():\n",
    "        if v.x != 0:\n",
    "            print(v.varName, \"=\", v.x)"
   ]
  },
  {
   "cell_type": "code",
   "execution_count": 13,
   "metadata": {},
   "outputs": [
    {
     "name": "stdout",
     "output_type": "stream",
     "text": [
      "Optimal centers:\n",
      "Center 0 at point [2.914961   1.41088215] with radius 0.0\n",
      "Center 1 at point [6.10552761 1.74739338] with radius 0.0\n"
     ]
    }
   ],
   "source": [
    "final_centers = [points[i] for i in range(len(points)) for j in range(len(radii[i])) if y[i, j].x == 1]\n",
    "final_radii = [radii[i][j] for i in range(len(radii)) for j in range(len(radii[i])) if y[i, j].x == 1]\n",
    "\n",
    "print(\"Optimal centers:\")\n",
    "for i in range(len(final_centers)): \n",
    "    print(f\"Center {i} at point {final_centers[i]} with radius {final_radii[i]}\")"
   ]
  },
  {
   "cell_type": "markdown",
   "metadata": {},
   "source": [
    "# Visual Solution"
   ]
  },
  {
   "cell_type": "code",
   "execution_count": 14,
   "metadata": {},
   "outputs": [
    {
     "data": {
      "image/png": "[encoded data removed]",
      "text/plain": [
       "<Figure size 640x480 with 1 Axes>"
      ]
     },
     "metadata": {},
     "output_type": "display_data"
    }
   ],
   "source": [
    "# centers are enlarged\n",
    "plt.title(\"Solution\")\n",
    "sizes = [100 if tuple(point) in map(tuple, final_centers) else 25 for point in points]\n",
    "plt.scatter(points[:, 0], points[:, 1], marker='o', c=cluster_membership, s=sizes, edgecolor=\"k\", cmap=\"coolwarm\")\n",
    "plt.show()"
   ]
  }
 ],
 "metadata": {
  "kernelspec": {
   "display_name": "Python 3",
   "language": "python",
   "name": "python3"
  },
  "language_info": {
   "codemirror_mode": {
    "name": "ipython",
    "version": 3
   },
   "file_extension": ".py",
   "mimetype": "text/x-python",
   "name": "python",
   "nbconvert_exporter": "python",
   "pygments_lexer": "ipython3",
   "version": "3.11.9"
  }
 },
 "nbformat": 4,
 "nbformat_minor": 2
}
