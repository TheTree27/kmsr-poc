{
 "cells": [
  {
   "cell_type": "markdown",
   "metadata": {},
   "source": [
    "# k-min-sum-radii ilp proof of concept"
   ]
  },
  {
   "cell_type": "code",
   "execution_count": 1,
   "metadata": {},
   "outputs": [],
   "source": [
    "import gurobipy as gp\n",
    "from gurobipy import GRB\n",
    "import numpy as np\n",
    "import scipy.sparse as sp\n",
    "import matplotlib.pyplot as plt\n",
    "from sklearn.datasets import make_blobs\n",
    "from sklearn.metrics import DistanceMetric"
   ]
  },
  {
   "cell_type": "code",
   "execution_count": 2,
   "metadata": {},
   "outputs": [
    {
     "data": {
      "image/png": "[encoded data removed]",
      "text/plain": [
       "<Figure size 640x480 with 1 Axes>"
      ]
     },
     "metadata": {},
     "output_type": "display_data"
    }
   ],
   "source": [
    "# generate dummy data\n",
    "points, cluster_membership = make_blobs(\n",
    "    n_samples=10,\n",
    "    n_features=2,\n",
    "    centers=2,\n",
    "    random_state=42\n",
    ")\n",
    "\n",
    "plt.title(\"Dummy data\")\n",
    "plt.scatter(points[:, 0], points[:, 1], marker='o', c=cluster_membership, s=25, edgecolor=\"k\", cmap=\"coolwarm\")\n",
    "plt.show()"
   ]
  },
  {
   "cell_type": "markdown",
   "metadata": {},
   "source": [
    "## Defining the ILP"
   ]
  },
  {
   "cell_type": "code",
   "execution_count": 3,
   "metadata": {},
   "outputs": [],
   "source": [
    "# distance function\n",
    "dist = DistanceMetric.get_metric('euclidean')\n",
    "\n",
    "# we need all distances as possible radii\n",
    "radii = dist.pairwise(points)"
   ]
  },
  {
   "cell_type": "code",
   "execution_count": 4,
   "metadata": {},
   "outputs": [
    {
     "name": "stdout",
     "output_type": "stream",
     "text": [
      "Set parameter Username\n",
      "Set parameter LicenseID to value 2629995\n",
      "Academic license - for non-commercial use only - expires 2026-03-01\n"
     ]
    }
   ],
   "source": [
    "# model\n",
    "m = gp.Model(\"kmsr\")\n",
    "\n",
    "# variables\n",
    "R = m.addVars(len(radii), vtype=GRB.CONTINUOUS, lb=0, name=\"R\")\n",
    "L = m.addVars(len(radii), vtype=GRB.BINARY, name=\"L\")\n",
    "Y = m.addVars(len(radii), len(radii), vtype=GRB.BINARY, name=\"Y\")"
   ]
  },
  {
   "cell_type": "code",
   "execution_count": 5,
   "metadata": {},
   "outputs": [],
   "source": [
    "# objective function: minimize sum of r in R_i of i in L: y_{i,r}*r\n",
    "m.setObjective(gp.quicksum(R[i] for i in range(len(radii))), GRB.MINIMIZE)"
   ]
  },
  {
   "cell_type": "code",
   "execution_count": 6,
   "metadata": {},
   "outputs": [],
   "source": [
    "# constraints:\n",
    "# every point covered\n",
    "for j in range(len(radii)):\n",
    "    m.addConstr(gp.quicksum(Y[i, j] for i in range(len(radii))) >= 1, f\"coverage_{j}\")\n",
    "\n",
    "# covered point has to be within radius (easier to check in two steps than in the first constraint)\n",
    "for i in range(len(radii)):\n",
    "    for j in range(len(radii)):\n",
    "        m.addConstr(radii[i][j] * Y[i, j] <= R[i], f\"within_radius_{i}_{j}\")\n",
    "\n",
    "# if a point is covered by a center, that center must be open in this iteration\n",
    "for i in range(len(radii)):\n",
    "    for j in range(len(radii)):\n",
    "        m.addConstr(Y[i, j] <= L[i], f\"open_center_{i}_{j}\")"
   ]
  },
  {
   "cell_type": "code",
   "execution_count": 7,
   "metadata": {},
   "outputs": [
    {
     "name": "stdout",
     "output_type": "stream",
     "text": [
      "Gurobi Optimizer version 12.0.1 build v12.0.1rc0 (win64 - Windows 11.0 (26100.2))\n",
      "\n",
      "CPU model: AMD Ryzen 7 5800X3D 8-Core Processor, instruction set [SSE2|AVX|AVX2]\n",
      "Thread count: 8 physical cores, 16 logical processors, using up to 16 threads\n",
      "\n",
      "Optimize a model with 210 rows, 120 columns and 490 nonzeros\n",
      "Model fingerprint: 0xbdb126fc\n",
      "Variable types: 10 continuous, 110 integer (110 binary)\n",
      "Coefficient statistics:\n",
      "  Matrix range     [3e-01, 1e+01]\n",
      "  Objective range  [1e+00, 1e+00]\n",
      "  Bounds range     [1e+00, 1e+00]\n",
      "  RHS range        [1e+00, 1e+00]\n",
      "Found heuristic solution: objective 34.3266646\n",
      "Presolve removed 210 rows and 120 columns\n",
      "Presolve time: 0.00s\n",
      "Presolve: All rows and columns removed\n",
      "\n",
      "Explored 0 nodes (0 simplex iterations) in 0.01 seconds (0.00 work units)\n",
      "Thread count was 1 (of 16 available processors)\n",
      "\n",
      "Solution count 2: 0 34.3267 \n",
      "\n",
      "Optimal solution found (tolerance 1.00e-04)\n",
      "Best objective 0.000000000000e+00, best bound 0.000000000000e+00, gap 0.0000%\n"
     ]
    }
   ],
   "source": [
    "# run gurobi optimizer\n",
    "m.optimize()"
   ]
  },
  {
   "cell_type": "code",
   "execution_count": 8,
   "metadata": {},
   "outputs": [
    {
     "name": "stdout",
     "output_type": "stream",
     "text": [
      "Optimal Solution Found!\n",
      "Center at point [2.914961   1.41088215] with radius 0.0\n",
      "Center at point [-2.97261532  8.54855637] with radius 0.0\n",
      "Center at point [-0.92998481  9.78172086] with radius 0.0\n",
      "Center at point [3.62704772 2.28741702] with radius 0.0\n",
      "Center at point [-2.743351    8.78014917] with radius 0.0\n",
      "Center at point [3.73185476 0.56086598] with radius 0.0\n",
      "Center at point [4.70740704 0.5484215 ] with radius 0.0\n",
      "Center at point [-2.26723535  7.10100588] with radius 0.0\n",
      "Center at point [-2.97867201  9.55684617] with radius 0.0\n",
      "Center at point [6.10552761 1.74739338] with radius 0.0\n"
     ]
    }
   ],
   "source": [
    "if m.status == GRB.OPTIMAL:\n",
    "    print(\"Optimal Solution Found!\")\n",
    "    for i in range(len(radii)):\n",
    "        if L[i].x > 0.5:  # If the center is used\n",
    "            print(f\"Center at point {points[i]} with radius {R[i].x}\")\n",
    "else:\n",
    "    print(\"No optimal solution found.\")"
   ]
  },
  {
   "cell_type": "code",
   "execution_count": 9,
   "metadata": {},
   "outputs": [
    {
     "ename": "TypeError",
     "evalue": "'Var' object is not subscriptable",
     "output_type": "error",
     "traceback": [
      "\u001b[1;31m---------------------------------------------------------------------------\u001b[0m",
      "\u001b[1;31mTypeError\u001b[0m                                 Traceback (most recent call last)",
      "Cell \u001b[1;32mIn[9], line 7\u001b[0m\n\u001b[0;32m      5\u001b[0m     \u001b[38;5;28;01mfor\u001b[39;00m j \u001b[38;5;129;01min\u001b[39;00m \u001b[38;5;28mrange\u001b[39m(\u001b[38;5;28mlen\u001b[39m(L[i])):\n\u001b[0;32m      6\u001b[0m         \u001b[38;5;28;01mfor\u001b[39;00m r \u001b[38;5;129;01min\u001b[39;00m R:\n\u001b[1;32m----> 7\u001b[0m             \u001b[38;5;28;01mif\u001b[39;00m(\u001b[43mR\u001b[49m\u001b[43m[\u001b[49m\u001b[43mi\u001b[49m\u001b[43m]\u001b[49m\u001b[43m[\u001b[49m\u001b[43mj\u001b[49m\u001b[43m]\u001b[49m \u001b[38;5;241m>\u001b[39m\u001b[38;5;241m=\u001b[39m R[i][\u001b[38;5;241m0\u001b[39m]):\n\u001b[0;32m      8\u001b[0m                 L[i][j] \u001b[38;5;241m=\u001b[39m \u001b[38;5;241m1\u001b[39m\n\u001b[0;32m     10\u001b[0m L\n",
      "\u001b[1;31mTypeError\u001b[0m: 'Var' object is not subscriptable"
     ]
    }
   ],
   "source": [
    "distances = dist.pairwise(points)\n",
    "L = np.zeros((len(points), len(points)), dtype=np.int8)\n",
    "\n",
    "for i in range(len(L)):\n",
    "    for j in range(len(L[i])):\n",
    "        for r in R:\n",
    "            if(R[i][j] >= R[i][0]):\n",
    "                L[i][j] = 1\n",
    "\n",
    "L\n"
   ]
  }
 ],
 "metadata": {
  "kernelspec": {
   "display_name": "Python 3",
   "language": "python",
   "name": "python3"
  },
  "language_info": {
   "codemirror_mode": {
    "name": "ipython",
    "version": 3
   },
   "file_extension": ".py",
   "mimetype": "text/x-python",
   "name": "python",
   "nbconvert_exporter": "python",
   "pygments_lexer": "ipython3",
   "version": "3.11.9"
  }
 },
 "nbformat": 4,
 "nbformat_minor": 2
}
