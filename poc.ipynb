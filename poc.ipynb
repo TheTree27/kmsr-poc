{
 "cells": [
  {
   "cell_type": "markdown",
   "metadata": {},
   "source": [
    "# K-Min-Sum-Radii LP proof of concept"
   ]
  },
  {
   "cell_type": "markdown",
   "metadata": {},
   "source": [
    "The goal is to find the optimal solution to a linear program that calculates a k-msr solution to a given selection of points and an integer k. Gurobi is used to calculate the solution within the necessary constraints. This notebook is supposed to be an exercise to find these specific constraints and to improve my grasp on the problem itself, before proceeding with implementing an algorithm of my own."
   ]
  },
  {
   "cell_type": "code",
   "execution_count": null,
   "metadata": {},
   "outputs": [],
   "source": [
    "import gurobipy as gp\n",
    "from gurobipy import GRB\n",
    "import matplotlib.pyplot as plt\n",
    "from sklearn.datasets import make_blobs\n",
    "from sklearn.metrics import DistanceMetric"
   ]
  },
  {
   "cell_type": "markdown",
   "metadata": {},
   "source": [
    "We need data points to perform the clustering on. An easy stand-in for actual data are sklearn blobs, that form very obvious clusters and are verifiable by hand if they are small enough."
   ]
  },
  {
   "cell_type": "code",
   "execution_count": 11,
   "metadata": {},
   "outputs": [
    {
     "data": {
      "image/png": "[encoded data removed]",
      "text/plain": [
       "<Figure size 640x480 with 1 Axes>"
      ]
     },
     "metadata": {},
     "output_type": "display_data"
    }
   ],
   "source": [
    "# generate dummy data for k=2\n",
    "k = 2\n",
    "points, cluster_membership = make_blobs(\n",
    "    n_samples=10,\n",
    "    n_features=2,\n",
    "    centers=k,\n",
    "    random_state=42\n",
    ")\n",
    "\n",
    "plt.title(\"Dummy data\")\n",
    "plt.scatter(points[:, 0], points[:, 1], marker='o', c=cluster_membership, s=25, edgecolor=\"k\", cmap=\"coolwarm\")\n",
    "plt.show()"
   ]
  },
  {
   "cell_type": "markdown",
   "metadata": {},
   "source": [
    "## Defining the ILP"
   ]
  },
  {
   "cell_type": "code",
   "execution_count": 12,
   "metadata": {},
   "outputs": [],
   "source": [
    "# distance function\n",
    "dist = DistanceMetric.get_metric('euclidean')\n",
    "\n",
    "# we need all distances as possible radii\n",
    "radii = dist.pairwise(points)"
   ]
  },
  {
   "cell_type": "code",
   "execution_count": 13,
   "metadata": {},
   "outputs": [],
   "source": [
    "# model\n",
    "m = gp.Model(\"kmsr\")\n",
    "\n",
    "# variables\n",
    "R = m.addVars(len(radii), vtype=GRB.CONTINUOUS, lb=0, name=\"R\")\n",
    "L = m.addVars(len(radii), vtype=GRB.BINARY, name=\"L\")\n",
    "Y = m.addVars(len(radii), len(radii), vtype=GRB.BINARY, name=\"Y\")"
   ]
  },
  {
   "cell_type": "code",
   "execution_count": 14,
   "metadata": {},
   "outputs": [],
   "source": [
    "# objective function: minimize sum of r in R_i of i in L: y_{i,r}*r\n",
    "m.setObjective(gp.quicksum(R[i] for i in range(len(radii))), GRB.MINIMIZE)"
   ]
  },
  {
   "cell_type": "code",
   "execution_count": 15,
   "metadata": {},
   "outputs": [
    {
     "data": {
      "text/plain": [
       "<gurobi.Constr *Awaiting Model Update*>"
      ]
     },
     "execution_count": 15,
     "metadata": {},
     "output_type": "execute_result"
    }
   ],
   "source": [
    "# constraints:\n",
    "# every point covered\n",
    "for j in range(len(radii)):\n",
    "    m.addConstr(gp.quicksum(Y[i, j] for i in range(len(radii))) >= 1, f\"coverage_{j}\")\n",
    "\n",
    "# covered point has to be within radius (easier to check in two steps than in the first constraint)\n",
    "for i in range(len(radii)):\n",
    "    for j in range(len(radii)):\n",
    "        m.addConstr(radii[i][j] * Y[i, j] <= R[i], f\"within_radius_{i}_{j}\")\n",
    "\n",
    "# if a point is covered by a center, that center must be open in this iteration\n",
    "for i in range(len(radii)):\n",
    "    for j in range(len(radii)):\n",
    "        m.addConstr(Y[i, j] <= L[i], f\"open_center_{i}_{j}\")\n",
    "\n",
    "# there can only be k centers open at a time\n",
    "m.addConstr(gp.quicksum(L[i] for i in range(len(radii))) == k, \"select_k_Centers\")"
   ]
  },
  {
   "cell_type": "code",
   "execution_count": 16,
   "metadata": {},
   "outputs": [
    {
     "name": "stdout",
     "output_type": "stream",
     "text": [
      "Gurobi Optimizer version 12.0.1 build v12.0.1rc0 (win64 - Windows 11.0 (26100.2))\n",
      "\n",
      "CPU model: AMD Ryzen 7 5800X3D 8-Core Processor, instruction set [SSE2|AVX|AVX2]\n",
      "Thread count: 8 physical cores, 16 logical processors, using up to 16 threads\n",
      "\n",
      "Optimize a model with 211 rows, 120 columns and 500 nonzeros\n",
      "Model fingerprint: 0xfdd069f4\n",
      "Variable types: 10 continuous, 110 integer (110 binary)\n",
      "Coefficient statistics:\n",
      "  Matrix range     [3e-01, 1e+01]\n",
      "  Objective range  [1e+00, 1e+00]\n",
      "  Bounds range     [1e+00, 1e+00]\n",
      "  RHS range        [1e+00, 2e+00]\n",
      "Found heuristic solution: objective 20.2703480\n",
      "Presolve removed 20 rows and 10 columns\n",
      "Presolve time: 0.00s\n",
      "Presolved: 191 rows, 110 columns, 550 nonzeros\n",
      "Variable types: 10 continuous, 100 integer (100 binary)\n",
      "\n",
      "Root relaxation: objective 3.318012e+00, 146 iterations, 0.00 seconds (0.00 work units)\n",
      "\n",
      "    Nodes    |    Current Node    |     Objective Bounds      |     Work\n",
      " Expl Unexpl |  Obj  Depth IntInf | Incumbent    BestBd   Gap | It/Node Time\n",
      "\n",
      "     0     0    3.31801    0   29   20.27035    3.31801  83.6%     -    0s\n",
      "H    0     0                       4.1188418    3.31801  19.4%     -    0s\n",
      "\n",
      "Cutting planes:\n",
      "  Gomory: 2\n",
      "  RLT: 8\n",
      "\n",
      "Explored 1 nodes (184 simplex iterations) in 0.02 seconds (0.00 work units)\n",
      "Thread count was 16 (of 16 available processors)\n",
      "\n",
      "Solution count 2: 4.11884 20.2703 \n",
      "\n",
      "Optimal solution found (tolerance 1.00e-04)\n",
      "Best objective 4.118841776667e+00, best bound 4.118841776667e+00, gap 0.0000%\n"
     ]
    }
   ],
   "source": [
    "# run gurobi optimizer\n",
    "m.optimize()"
   ]
  },
  {
   "cell_type": "code",
   "execution_count": 17,
   "metadata": {},
   "outputs": [
    {
     "name": "stdout",
     "output_type": "stream",
     "text": [
      "Optimal centers:\n",
      "Center at point [-2.743351    8.78014917] with radius 2.0715797793648414\n",
      "Center at point [4.70740704 0.5484215 ] with radius 2.0472619973026385\n"
     ]
    }
   ],
   "source": [
    "final_centers = [points[i] for i in range(len(radii)) if L[i].x == 1]\n",
    "final_radii = [R[i].x for i in range(len(radii)) if L[i].x == 1]\n",
    "\n",
    "print(\"Optimal centers:\")\n",
    "for i in range(len(final_centers)): \n",
    "    print(f\"Center at point {final_centers[i]} with radius {final_radii[i]}\")"
   ]
  },
  {
   "cell_type": "markdown",
   "metadata": {},
   "source": [
    "# Visual Solution"
   ]
  },
  {
   "cell_type": "code",
   "execution_count": 18,
   "metadata": {},
   "outputs": [
    {
     "data": {
      "image/png": "[encoded data removed]",
      "text/plain": [
       "<Figure size 640x480 with 1 Axes>"
      ]
     },
     "metadata": {},
     "output_type": "display_data"
    }
   ],
   "source": [
    "# centers are enlarged\n",
    "plt.title(\"Solution\")\n",
    "sizes = [100 if tuple(point) in map(tuple, final_centers) else 25 for point in points]\n",
    "plt.scatter(points[:, 0], points[:, 1], marker='o', c=cluster_membership, s=sizes, edgecolor=\"k\", cmap=\"coolwarm\")\n",
    "plt.show()"
   ]
  }
 ],
 "metadata": {
  "kernelspec": {
   "display_name": "Python 3",
   "language": "python",
   "name": "python3"
  },
  "language_info": {
   "codemirror_mode": {
    "name": "ipython",
    "version": 3
   },
   "file_extension": ".py",
   "mimetype": "text/x-python",
   "name": "python",
   "nbconvert_exporter": "python",
   "pygments_lexer": "ipython3",
   "version": "3.11.9"
  }
 },
 "nbformat": 4,
 "nbformat_minor": 2
}
